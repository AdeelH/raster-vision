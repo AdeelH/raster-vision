{
 "cells": [
  {
   "cell_type": "markdown",
   "id": "80a5cb78-9e25-4999-b186-752ba599b958",
   "metadata": {},
   "source": [
    "We will be accessing files on S3 in this notebook. Since those files are public, we set the `AWS_NO_SIGN_REQUEST` to tell `rasterio` to skip the sign-in."
   ]
  },
  {
   "cell_type": "code",
   "execution_count": null,
   "id": "d73747ce-cd2f-4f23-9fe9-69dfd8516f6d",
   "metadata": {},
   "outputs": [],
   "source": [
    "%env AWS_NO_SIGN_REQUEST=YES"
   ]
  },
  {
   "cell_type": "code",
   "execution_count": null,
   "id": "783db702-e368-4a1a-9800-c7ed4727e9aa",
   "metadata": {},
   "outputs": [],
   "source": []
  },
  {
   "cell_type": "code",
   "execution_count": null,
   "id": "85bccb38-9bea-44de-95ab-0c94954cfe08",
   "metadata": {},
   "outputs": [],
   "source": [
    "from rastervision.core.data import ClassConfig\n",
    "\n",
    "class_config = ClassConfig(\n",
    "    names=['Car', 'Building', 'Low Vegetation', 'Tree', 'Impervious', 'Clutter', 'null'],\n",
    "    colors=['#ffff00', '#0000ff', '#00ffff', '#00ff00', '#ffffff', '#ff0000', '#000000'],\n",
    ")"
   ]
  },
  {
   "cell_type": "markdown",
   "id": "c16bc20d-650c-4a09-b7c7-fcfc00ed1f38",
   "metadata": {},
   "source": [
    "## Define model"
   ]
  },
  {
   "cell_type": "markdown",
   "id": "c0e5a947-af32-424f-bc2f-ea20bf24afba",
   "metadata": {},
   "source": [
    "Use a [light-weight panoptic FPN model](https://github.com/AdeelH/pytorch-fpn) with a ResNet-18 backbone."
   ]
  },
  {
   "cell_type": "code",
   "execution_count": null,
   "id": "3d09bc5a-7644-478c-a6b3-83b3aca13dc9",
   "metadata": {},
   "outputs": [],
   "source": [
    "import torch\n",
    "\n",
    "model = torch.hub.load(\n",
    "    'AdeelH/pytorch-fpn:0.3',\n",
    "    'make_fpn_resnet',\n",
    "    name='resnet50',\n",
    "    fpn_type='panoptic',\n",
    "    num_classes=len(class_config),\n",
    "    fpn_channels=256,\n",
    "    in_channels=3,\n",
    "    out_size=(256, 256),\n",
    "    pretrained=False)"
   ]
  },
  {
   "cell_type": "code",
   "execution_count": null,
   "id": "31e8d270-c203-4e84-bdf5-312357939eb1",
   "metadata": {
    "scrolled": true
   },
   "outputs": [],
   "source": [
    "model"
   ]
  },
  {
   "cell_type": "code",
   "execution_count": null,
   "id": "55511454-6f11-483b-996d-12665b5fcf2c",
   "metadata": {},
   "outputs": [],
   "source": [
    "from torchvision.utils import make_grid\n",
    "from matplotlib import pyplot as plt\n",
    "\n",
    "first_conv_layer = model[0].m[0][0].weight.cpu()\n",
    "grid = make_grid(first_conv_layer, normalize=True)\n",
    "fig, ax = plt.subplots(figsize=(6, 6))\n",
    "ax.imshow(grid.permute(1, 2, 0))\n",
    "ax.axis('off')\n",
    "plt.show()"
   ]
  },
  {
   "cell_type": "markdown",
   "id": "a4b61789-e38a-4940-bcd4-38c917c1b518",
   "metadata": {},
   "source": [
    "## Load trained weights"
   ]
  },
  {
   "cell_type": "code",
   "execution_count": null,
   "id": "f92bff00-c833-4071-8ff2-ef67a7c3afe8",
   "metadata": {},
   "outputs": [],
   "source": [
    "from rastervision.pipeline.file_system.utils import download_if_needed"
   ]
  },
  {
   "cell_type": "code",
   "execution_count": null,
   "id": "5fdc3bc1-3219-4026-abe1-ccf633f5402f",
   "metadata": {},
   "outputs": [],
   "source": [
    "model_weights_uri = 's3://azavea-research-public-data/raster-vision/examples/model-zoo-0.30/isprs-potsdam-ss/train/last-model.pth'\n",
    "model_weights_path = download_if_needed(model_weights_uri)\n",
    "model.load_state_dict(torch.load(model_weights_path, map_location='cpu'))"
   ]
  },
  {
   "cell_type": "code",
   "execution_count": null,
   "id": "ed82c877-c309-4e2a-9e24-d75f8fc099df",
   "metadata": {},
   "outputs": [],
   "source": [
    "first_conv_layer = model[0].m[0][0].weight.cpu()\n",
    "grid = make_grid(first_conv_layer, normalize=True)\n",
    "fig, ax = plt.subplots(figsize=(6, 6))\n",
    "ax.imshow(grid.permute(1, 2, 0))\n",
    "ax.axis('off')\n",
    "plt.show()"
   ]
  },
  {
   "cell_type": "code",
   "execution_count": null,
   "id": "a78c1b17-814d-4883-8013-d8a8835ae9e2",
   "metadata": {},
   "outputs": [],
   "source": []
  }
 ],
 "metadata": {
  "kernelspec": {
   "display_name": "Python 3 (ipykernel)",
   "language": "python",
   "name": "python3"
  },
  "language_info": {
   "codemirror_mode": {
    "name": "ipython",
    "version": 3
   },
   "file_extension": ".py",
   "mimetype": "text/x-python",
   "name": "python",
   "nbconvert_exporter": "python",
   "pygments_lexer": "ipython3",
   "version": "3.11.6"
  }
 },
 "nbformat": 4,
 "nbformat_minor": 5
}
