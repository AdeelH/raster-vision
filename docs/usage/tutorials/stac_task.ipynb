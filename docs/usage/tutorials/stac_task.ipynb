{
 "cells": [
  {
   "cell_type": "markdown",
   "id": "e5d47c06-5f2c-4482-bf5b-f967b5feb07e",
   "metadata": {},
   "source": [
    "# Steup"
   ]
  },
  {
   "cell_type": "markdown",
   "id": "031bb1dc-4c25-4b28-a7ed-df95b0af9f33",
   "metadata": {},
   "source": [
    "## Dependencies"
   ]
  },
  {
   "cell_type": "markdown",
   "id": "8bc5f8a7-4778-474c-bddc-0d9f01b928d5",
   "metadata": {},
   "source": [
    "This notebook uses unreleased features, so intall Raster Vision from the master branch:"
   ]
  },
  {
   "cell_type": "code",
   "execution_count": null,
   "id": "40002d6d-41ef-4cee-b713-8404250a1770",
   "metadata": {
    "scrolled": true
   },
   "outputs": [],
   "source": [
    "%pip install git+https://github.com/azavea/raster-vision.git"
   ]
  },
  {
   "cell_type": "code",
   "execution_count": null,
   "id": "58735cb6-6fa1-4ee1-80f2-9b2b68cb71d8",
   "metadata": {},
   "outputs": [],
   "source": [
    "!git clone https://github.com/azavea/raster-vision.git --depth=1 && \\\n",
    "    pip install ./raster-vision/rastervision_aws_sagemaker"
   ]
  },
  {
   "cell_type": "markdown",
   "id": "2b7f55df-7046-4966-add3-f9b0113d5ca2",
   "metadata": {},
   "source": [
    "Install other dependencies:"
   ]
  },
  {
   "cell_type": "code",
   "execution_count": null,
   "id": "f2146fb6-8f2e-412f-b731-190372fb52d6",
   "metadata": {
    "scrolled": true
   },
   "outputs": [],
   "source": [
    "%pip install pystac_client==0.7.5"
   ]
  },
  {
   "cell_type": "markdown",
   "id": "a7af8aa7-70b7-4dec-8d85-3cf4df56d439",
   "metadata": {},
   "source": [
    "---"
   ]
  },
  {
   "cell_type": "markdown",
   "id": "c221cbd9-9b6a-4704-8cae-665854cc4667",
   "metadata": {},
   "source": [
    "## AWS account"
   ]
  },
  {
   "cell_type": "markdown",
   "id": "459e3a6c-d76f-4900-b289-2b4d1e9e7592",
   "metadata": {},
   "source": [
    "You will need access to the AWS account `#279682201306 | infrastructure+azaveard@element84.com` to be able to run this notebook."
   ]
  },
  {
   "cell_type": "markdown",
   "id": "1f51ab55-63d9-40ff-8f63-4436b96167a3",
   "metadata": {},
   "source": [
    "---"
   ]
  },
  {
   "cell_type": "code",
   "execution_count": null,
   "id": "0387e315-b2d7-468d-b460-65ae58d430ab",
   "metadata": {},
   "outputs": [],
   "source": [
    "from typing import Any, Dict, List\n",
    "\n",
    "from stactask import Task\n",
    "from rastervision.aws_sagemaker import AWSSageMakerRunner\n",
    "\n",
    "class RVPredTask(Task):\n",
    "    name = 'rv-pred-task'\n",
    "    description = 'Run prediction on an item using Raster Vision'\n",
    "\n",
    "    def validate(self, payload: Dict[str, Any]) -> bool:\n",
    "        return len(self.items) == 1\n",
    "\n",
    "    def process(self, **kwargs: Any) -> List[Dict[str, Any]]:\n",
    "        item = self.items[0]\n",
    "\n",
    "        params = item['process']\n",
    "        model_bundle_uri = params['model_bundle_uri']\n",
    "        scene_config_uri = params['scene_config_uri']\n",
    "\n",
    "        cmd = [\n",
    "            'rastervision', 'predict_scene', model_bundle_uri, scene_config_uri]\n",
    "        \n",
    "        runner = AWSSageMakerRunner()\n",
    "        runner.run_command(\n",
    "            cmd=cmd,\n",
    "            role='AmazonSageMakerExecutionRole',\n",
    "            image_uri='279682201306.dkr.ecr.us-east-1.amazonaws.com/raster-vision-ahassan',\n",
    "            instance_type='ml.p3.2xlarge',\n",
    "            job_name='stac-pred',\n",
    "        )\n",
    "\n",
    "        return []"
   ]
  },
  {
   "cell_type": "code",
   "execution_count": null,
   "id": "4e82219a-e241-42f3-8958-205cec95f222",
   "metadata": {},
   "outputs": [],
   "source": [
    "payload = {}\n",
    "task = RVPredTask(payload)"
   ]
  }
 ],
 "metadata": {
  "kernelspec": {
   "display_name": "Python 3 (ipykernel)",
   "language": "python",
   "name": "python3"
  },
  "language_info": {
   "codemirror_mode": {
    "name": "ipython",
    "version": 3
   },
   "file_extension": ".py",
   "mimetype": "text/x-python",
   "name": "python",
   "nbconvert_exporter": "python",
   "pygments_lexer": "ipython3",
   "version": "3.10.12"
  }
 },
 "nbformat": 4,
 "nbformat_minor": 5
}
