{
 "cells": [
  {
   "cell_type": "markdown",
   "id": "a85262d6-34c0-4c76-b67b-9cff4972402a",
   "metadata": {
    "tags": []
   },
   "source": [
    "## Install dependencies"
   ]
  },
  {
   "cell_type": "code",
   "execution_count": null,
   "id": "702f7be3-827b-4129-a473-2afe43f8a6bc",
   "metadata": {
    "scrolled": true,
    "tags": []
   },
   "outputs": [],
   "source": [
    "!pip install pystac_client==0.6.1 stackstac==0.4.4"
   ]
  },
  {
   "cell_type": "code",
   "execution_count": null,
   "id": "169150e7-366a-4c51-817d-ceecba9296c2",
   "metadata": {
    "scrolled": true
   },
   "outputs": [],
   "source": [
    "!pip install ipywidgets seaborn"
   ]
  },
  {
   "cell_type": "markdown",
   "id": "7280c11e-701a-46d3-af42-92ab47c3c13d",
   "metadata": {},
   "source": [
    "---"
   ]
  },
  {
   "cell_type": "code",
   "execution_count": null,
   "id": "b810587f-0db3-48cb-a509-166caa55c92b",
   "metadata": {},
   "outputs": [],
   "source": [
    "import os\n",
    "\n",
    "os.environ['AWS_ACCESS_KEY_ID'] = ''\n",
    "os.environ['AWS_SECRET_ACCESS_KEY'] = ''\n",
    "os.environ['AWS_SESSION_TOKEN'] = ''"
   ]
  },
  {
   "cell_type": "code",
   "execution_count": null,
   "id": "23df946b-436d-4bd9-b115-d62712b3e411",
   "metadata": {
    "scrolled": true
   },
   "outputs": [],
   "source": [
    "import gc\n",
    "from time import perf_counter\n",
    "\n",
    "from rastervision.core.box import Box\n",
    "from rastervision.core.data import (\n",
    "    MinMaxTransformer, RasterioCRSTransformer, \n",
    "    StatsTransformer, XarraySource)\n",
    "from rastervision.core.data.raster_source import XarraySource\n",
    "\n",
    "from rastervision.pipeline.file_system.utils import download_if_needed, json_to_file, file_to_json\n",
    "from rastervision.core.evaluation import ensure_json_serializable\n",
    "from rastervision.core import RasterStats\n",
    "from rastervision.core.data import Scene\n",
    "from rastervision.pytorch_learner import (\n",
    "    SemanticSegmentationRandomWindowGeoDataset,\n",
    "    SemanticSegmentationSlidingWindowGeoDataset)\n",
    "\n",
    "import math\n",
    "from tqdm import tqdm\n",
    "import numpy as np\n",
    "from shapely.geometry import mapping\n",
    "import torch\n",
    "from torch.utils.data import DataLoader\n",
    "from torchvision.transforms import Normalize\n",
    "import albumentations as A\n",
    "\n",
    "from matplotlib import pyplot as plt\n",
    "import seaborn as sns\n",
    "sns.reset_defaults()\n",
    "\n",
    "DEVICE = 'cuda:0'"
   ]
  },
  {
   "cell_type": "markdown",
   "id": "853991ea-c504-46df-9c85-0911ee129e9b",
   "metadata": {},
   "source": [
    "---"
   ]
  },
  {
   "cell_type": "markdown",
   "id": "b8fe63fb-bc99-48aa-8de9-c32d13fb6a73",
   "metadata": {
    "tags": []
   },
   "source": [
    "## Get a time-series of Sentinel-2 images from a STAC API"
   ]
  },
  {
   "cell_type": "markdown",
   "id": "d25d9a43-c7ec-48d1-8737-bfd0f679ee08",
   "metadata": {},
   "source": [
    "Get Sentinel-2 imagery from 2023-06-01 to 2023-06-20 over Paris, France."
   ]
  },
  {
   "cell_type": "code",
   "execution_count": null,
   "id": "6a500558-f9db-442c-bae5-9ab4745e48bd",
   "metadata": {},
   "outputs": [],
   "source": [
    "import pystac_client\n",
    "import pystac\n",
    "import stackstac"
   ]
  },
  {
   "cell_type": "code",
   "execution_count": null,
   "id": "819b69a4-ff08-4f34-8d2f-76b90d2c1575",
   "metadata": {},
   "outputs": [],
   "source": [
    "bbox = Box(xmin=67.882, ymin=27.674, xmax=67.929, ymax=27.825)\n",
    "bbox_geometry = mapping(bbox.to_shapely().oriented_envelope)\n",
    "bbox_geometry"
   ]
  },
  {
   "cell_type": "code",
   "execution_count": null,
   "id": "ef11232f-7a20-4948-aaf4-97966dde121f",
   "metadata": {},
   "outputs": [],
   "source": [
    "YEAR = 2018"
   ]
  },
  {
   "cell_type": "code",
   "execution_count": null,
   "id": "5643c350-7e53-40d4-8c8e-265c1a4a608a",
   "metadata": {},
   "outputs": [],
   "source": [
    "%%time\n",
    "\n",
    "URL = \"https://earth-search.aws.element84.com/v1\"\n",
    "catalog = pystac_client.Client.open(URL)\n",
    "\n",
    "items = catalog.search(\n",
    "    intersects=bbox_geometry,\n",
    "    collections=[\"sentinel-2-l2a\"],\n",
    "    datetime=f\"{YEAR}-01-01/{YEAR}-12-31\",\n",
    "    query={\"eo:cloud_cover\": {\"lt\": 5}},\n",
    ").item_collection()\n",
    "\n",
    "len(items)"
   ]
  },
  {
   "cell_type": "code",
   "execution_count": null,
   "id": "3615f1e3-78a9-46c5-a16f-74dd5bf3d6db",
   "metadata": {
    "scrolled": true,
    "tags": []
   },
   "outputs": [],
   "source": [
    "stack = stackstac.stack(items)\n",
    "stack"
   ]
  },
  {
   "cell_type": "markdown",
   "id": "44aa692e-3f04-47bf-ac85-3f02a972583e",
   "metadata": {},
   "source": [
    "### Convert to a Raster Vision `RasterSource`"
   ]
  },
  {
   "cell_type": "code",
   "execution_count": null,
   "id": "e290e832-217b-4840-ae7c-2347ab2b5356",
   "metadata": {},
   "outputs": [],
   "source": [
    "crs_transformer = RasterioCRSTransformer(\n",
    "    transform=stack.transform, image_crs=stack.crs)"
   ]
  },
  {
   "cell_type": "code",
   "execution_count": null,
   "id": "e9ea550d-97c3-45c8-af15-e5dee82612a5",
   "metadata": {},
   "outputs": [],
   "source": [
    "data_array = stack\n",
    "data_array = data_array.sel(\n",
    "    band=[\n",
    "        'coastal', # B01\n",
    "        'blue', # B02\n",
    "        'green', # B03\n",
    "        'red', # B04\n",
    "        'rededge1', # B05\n",
    "        'rededge2', # B06\n",
    "        'rededge3', # B07\n",
    "        'nir', # B08\n",
    "        'nir08', # B8A\n",
    "        'nir09', # B09\n",
    "        'swir16', # B11\n",
    "        'swir16', # B11\n",
    "        'swir22', # B12\n",
    "    ])"
   ]
  },
  {
   "cell_type": "code",
   "execution_count": null,
   "id": "7e3d8309-4ed7-43a5-9a5a-e73947b165f2",
   "metadata": {
    "scrolled": true
   },
   "outputs": [],
   "source": [
    "valid_ts, _ = np.where(~np.isnan(data_array.isel(x=0, y=0, band=[3]).to_numpy()))\n",
    "data_array = data_array.isel(time=valid_ts)\n",
    "data_array"
   ]
  },
  {
   "cell_type": "code",
   "execution_count": null,
   "id": "ecd7e26b-d113-45a7-944c-44e8204b8031",
   "metadata": {},
   "outputs": [],
   "source": [
    "stats_uri = 's3://raster-vision-ahassan/sentinel-2-embeddings/SSL4EO_stats.json'\n",
    "# stats_uri = 'SSL4EO_stats.json'\n",
    "stats_tf = StatsTransformer.from_stats_json(stats_uri)"
   ]
  },
  {
   "cell_type": "code",
   "execution_count": null,
   "id": "9ed94f49-e938-41c0-94f6-818e5dd93086",
   "metadata": {},
   "outputs": [],
   "source": [
    "T = len(data_array.time)\n",
    "t_strs = np.array([str(_t.date()) for _t in data_array.time.to_series().to_list()])"
   ]
  },
  {
   "cell_type": "markdown",
   "id": "52c08216-2359-4a93-8cd1-0a7218f680d5",
   "metadata": {},
   "source": [
    "---"
   ]
  },
  {
   "cell_type": "markdown",
   "id": "f165c539-dee2-42e8-84c6-7d06a2712bd4",
   "metadata": {
    "tags": []
   },
   "source": [
    "## Get model"
   ]
  },
  {
   "cell_type": "markdown",
   "id": "2d280739-ff14-456e-8f7a-00c822e03bcf",
   "metadata": {},
   "source": [
    "https://github.com/zhu-xlab/SSL4EO-S12\n",
    "\n",
    "MoCo\tResNet18\tS2-L1C 13 bands"
   ]
  },
  {
   "cell_type": "code",
   "execution_count": null,
   "id": "4c5e4121-a9bd-4fab-8c68-640649f70e8f",
   "metadata": {},
   "outputs": [],
   "source": [
    "from torch import nn\n",
    "from torchvision.models import resnet18\n",
    "from rastervision.pytorch_learner.utils import adjust_conv_channels"
   ]
  },
  {
   "cell_type": "code",
   "execution_count": null,
   "id": "3d6da0e9-f9bf-4e9c-80f7-5330be1502d6",
   "metadata": {},
   "outputs": [],
   "source": [
    "sd = torch.load('./B13_rn18_moco_0099_ckpt.pth')\n",
    "# sd = torch.load(download_if_needed('s3://raster-vision-ahassan/sentinel-2-embeddings/B13_rn18_moco_0099_ckpt.pth', '.'))\n",
    "sd_encoder_q = {k: v for k, v in sd['state_dict'].items() if (k.startswith('module.encoder_q') and not '.fc.' in k)}\n",
    "sd_encoder_q_no_prefix = {k.replace('module.encoder_q.', ''): v for k, v in sd_encoder_q.items()}"
   ]
  },
  {
   "cell_type": "code",
   "execution_count": null,
   "id": "f842ada1-c1b6-48e8-819d-9ed4f967ce49",
   "metadata": {},
   "outputs": [],
   "source": [
    "model = resnet18(weights=None)\n",
    "model.fc = nn.Identity()\n",
    "model.conv1 = adjust_conv_channels(model.conv1, 13, pretrained=False)\n",
    "model.load_state_dict(sd_encoder_q_no_prefix)\n",
    "model = model.to(device=DEVICE)\n",
    "model = model.eval()"
   ]
  },
  {
   "cell_type": "markdown",
   "id": "1bd9083e-2400-4311-8179-3b3c6f4411c4",
   "metadata": {},
   "source": [
    "---"
   ]
  },
  {
   "cell_type": "markdown",
   "id": "e331cb2f-6ecd-4be9-b59e-03ffef045f04",
   "metadata": {},
   "source": [
    "## Run inference"
   ]
  },
  {
   "cell_type": "code",
   "execution_count": null,
   "id": "4d326e5a-4980-4be8-838c-bb9bfc0fd99f",
   "metadata": {},
   "outputs": [],
   "source": [
    "dst_file_s3 = f's3://raster-vision-ahassan/sentinel-2-embeddings/42R_{YEAR}.json'\n",
    "print(dst_file_s3)\n",
    "try:\n",
    "    embeddings = file_to_json(dst_file_s3)\n",
    "except:\n",
    "    embeddings = {}\n",
    "print(len(embeddings))"
   ]
  },
  {
   "cell_type": "code",
   "execution_count": null,
   "id": "a095f424-80dd-4ee8-ab90-d624a573c062",
   "metadata": {},
   "outputs": [],
   "source": [
    "download_first = False\n",
    "chip_sz = 500\n",
    "stride = chip_sz\n",
    "img_sz = 256\n",
    "batch_size = 8\n",
    "num_workers = 0\n",
    "resize_tf = A.Resize(img_sz, img_sz)"
   ]
  },
  {
   "cell_type": "code",
   "execution_count": null,
   "id": "0f46ba1d-5841-4cc0-999f-8d26bee38fe1",
   "metadata": {},
   "outputs": [],
   "source": [
    "for t in range(T):\n",
    "    t_str = t_strs[t]\n",
    "    if t_str in embeddings:\n",
    "        continue\n",
    "    print(t_str)\n",
    "    embeddings_t = []\n",
    "    raster_source_t = XarraySource(\n",
    "        data_array.isel(time=t),\n",
    "        crs_transformer=crs_transformer,\n",
    "        raster_transformers=[stats_tf],\n",
    "    )\n",
    "    if download_first:\n",
    "        print(f'Downloading data')\n",
    "        tic = perf_counter()\n",
    "        raster_source_t.data_array.load()\n",
    "        toc = perf_counter()\n",
    "        print(f'Done. ({toc - tic:.1f}s)')\n",
    "    scene = Scene('', raster_source_t)\n",
    "    ds = SemanticSegmentationSlidingWindowGeoDataset(\n",
    "        scene, \n",
    "        chip_sz, \n",
    "        stride, \n",
    "        padding=0, \n",
    "        transform=resize_tf, \n",
    "        normalize=False,\n",
    "    )\n",
    "    dl = DataLoader(ds, batch_size=batch_size, num_workers=num_workers)\n",
    "    nodata_mask = []\n",
    "    with torch.inference_mode(), tqdm(dl, desc=t_strs[t]) as bar:\n",
    "        for x, _ in bar:\n",
    "            mask = (x.sum(dim=0).reshape(len(x), -1) > 0).all(dim=1)\n",
    "            nodata_mask += mask.tolist()\n",
    "            if not mask.any():\n",
    "                continue\n",
    "            x = x[mask]\n",
    "            _x = x.to(device=DEVICE)\n",
    "            out = model(_x)\n",
    "            embeddings_t.append(out.cpu().numpy())\n",
    "    del raster_source_t\n",
    "    gc.collect()\n",
    "    nodata_mask = np.array(nodata_mask)\n",
    "    print('% NODATA chips', nodata_mask.sum())\n",
    "    windows = np.array(ds.windows)[nodata_mask].tolist()\n",
    "    embeddings_t = np.concatenate(embeddings_t)\n",
    "    embeddings[t_str] = dict(\n",
    "        embeddings=embeddings_t, \n",
    "        windows_pixel=windows,\n",
    "        windows_map=[crs_transformer.pixel_to_map(w) for w in windows]\n",
    "    )\n",
    "    print('Uploading to S3')\n",
    "    tic = perf_counter()\n",
    "    json_to_file(ensure_json_serializable(embeddings), dst_file_s3)\n",
    "    toc = perf_counter()\n",
    "    print(f'Done. ({toc - tic:.1f}s)')\n",
    "    gc.collect()\n",
    "    "
   ]
  },
  {
   "cell_type": "markdown",
   "id": "1bb24a14-b5c4-4d40-b72a-29b57a41b5e2",
   "metadata": {},
   "source": [
    "---"
   ]
  }
 ],
 "metadata": {
  "kernelspec": {
   "display_name": "Python 3 (ipykernel)",
   "language": "python",
   "name": "python3"
  },
  "language_info": {
   "codemirror_mode": {
    "name": "ipython",
    "version": 3
   },
   "file_extension": ".py",
   "mimetype": "text/x-python",
   "name": "python",
   "nbconvert_exporter": "python",
   "pygments_lexer": "ipython3",
   "version": "3.10.12"
  }
 },
 "nbformat": 4,
 "nbformat_minor": 5
}
