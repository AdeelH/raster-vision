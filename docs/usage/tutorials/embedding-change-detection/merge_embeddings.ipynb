{
 "cells": [
  {
   "cell_type": "code",
   "execution_count": 1,
   "id": "96e3875c-6cef-43fd-8562-5a66233b735b",
   "metadata": {},
   "outputs": [],
   "source": [
    "import os\n",
    "\n",
    "os.environ['AWS_ACCESS_KEY_ID'] = ''\n",
    "os.environ['AWS_SECRET_ACCESS_KEY'] = ''\n",
    "os.environ['AWS_SESSION_TOKEN'] = ''"
   ]
  },
  {
   "cell_type": "code",
   "execution_count": 19,
   "id": "8327af7d-9cab-4c50-abf1-0075420d42c5",
   "metadata": {},
   "outputs": [],
   "source": [
    "from os.path import join\n",
    "\n",
    "from tqdm.auto import tqdm, trange\n",
    "\n",
    "from rastervision.pipeline.file_system.utils import file_to_json, json_to_file\n",
    "from rastervision.core.box import Box"
   ]
  },
  {
   "cell_type": "code",
   "execution_count": 4,
   "id": "105f5757-56aa-4a55-b139-fa0dfb919c7a",
   "metadata": {
    "scrolled": true
   },
   "outputs": [
    {
     "name": "stdout",
     "output_type": "stream",
     "text": [
      "2023-07-07 19:10:39          0 \n",
      "2023-07-10 18:48:30  102860543 42R_2017.json\n",
      "2023-07-10 22:35:06  230914167 42R_2018.json\n",
      "2023-07-10 22:35:17  227634221 42R_2019.json\n",
      "2023-07-10 23:04:07  239883912 42R_2020.json\n",
      "2023-07-10 23:27:41  271067017 42R_2021.json\n",
      "2023-07-10 23:22:16  241133686 42R_2022.json\n",
      "2023-07-10 22:34:12  118011359 42R_2023.json\n",
      "2023-07-07 19:55:52        516 42R_stats.json\n",
      "2023-07-07 19:10:59  172173709 B13_rn18_moco_0099_ckpt.pth\n"
     ]
    }
   ],
   "source": [
    "aws s3 cp s3://raster-vision-ahassan/sentinel-2-embeddings/42R_2017.json s3://raster-vision-ahassan/sentinel-2-embeddings/42RUR_2017.json"
   ]
  },
  {
   "cell_type": "code",
   "execution_count": 10,
   "id": "bdb9f2f7-2d6d-4a6a-bf79-0891f58285cb",
   "metadata": {},
   "outputs": [
    {
     "data": {
      "application/vnd.jupyter.widget-view+json": {
       "model_id": "50782c9aeefd48ed94d95135c60320c1",
       "version_major": 2,
       "version_minor": 0
      },
      "text/plain": [
       "  0%|          | 0/7 [00:00<?, ?it/s]"
      ]
     },
     "metadata": {},
     "output_type": "display_data"
    },
    {
     "data": {
      "application/vnd.jupyter.widget-view+json": {
       "model_id": "470ebac91d134cfe8fe744f01ff91e6b",
       "version_major": 2,
       "version_minor": 0
      },
      "text/plain": [
       "Downloading:  58%|#####8    | 128M/220M [00:05<00:03, 26.8MB/s]"
      ]
     },
     "metadata": {},
     "output_type": "display_data"
    },
    {
     "data": {
      "application/vnd.jupyter.widget-view+json": {
       "model_id": "ee13e50e1e864e2195579a5bd8f11742",
       "version_major": 2,
       "version_minor": 0
      },
      "text/plain": [
       "Downloading:  61%|######    | 132M/217M [00:05<00:03, 27.6MB/s]"
      ]
     },
     "metadata": {},
     "output_type": "display_data"
    },
    {
     "data": {
      "application/vnd.jupyter.widget-view+json": {
       "model_id": "c7102281612746d9906ca84998361195",
       "version_major": 2,
       "version_minor": 0
      },
      "text/plain": [
       "Downloading:  56%|#####5    | 127M/229M [00:05<00:04, 26.5MB/s]"
      ]
     },
     "metadata": {},
     "output_type": "display_data"
    },
    {
     "data": {
      "application/vnd.jupyter.widget-view+json": {
       "model_id": "0c9c6fdcf5374c45ad766264f39a8a24",
       "version_major": 2,
       "version_minor": 0
      },
      "text/plain": [
       "Downloading:  49%|####9     | 127M/259M [00:05<00:05, 26.6MB/s]"
      ]
     },
     "metadata": {},
     "output_type": "display_data"
    },
    {
     "data": {
      "application/vnd.jupyter.widget-view+json": {
       "model_id": "3a4d7a8ad59a4c259bb5b6f507686b37",
       "version_major": 2,
       "version_minor": 0
      },
      "text/plain": [
       "Downloading:  54%|#####3    | 124M/230M [00:05<00:04, 25.8MB/s]"
      ]
     },
     "metadata": {},
     "output_type": "display_data"
    },
    {
     "data": {
      "application/vnd.jupyter.widget-view+json": {
       "model_id": "42d5320f6c2c4513a2e265b3b2e15a44",
       "version_major": 2,
       "version_minor": 0
      },
      "text/plain": [
       "Downloading:  97%|#########6| 109M/113M [00:05<00:00, 22.8MB/s]"
      ]
     },
     "metadata": {},
     "output_type": "display_data"
    },
    {
     "name": "stdout",
     "output_type": "stream",
     "text": [
      "317\n"
     ]
    }
   ],
   "source": [
    "root_dir = 's3://raster-vision-ahassan/sentinel-2-embeddings/'\n",
    "embeddings_all = {}\n",
    "\n",
    "for year in trange(2017, 2024):\n",
    "    embeddings_file = join(root_dir, f'42R_{year}.json')\n",
    "    embeddings = file_to_json(embeddings_file)\n",
    "    embeddings_all.update(embeddings)\n",
    "\n",
    "print(len(embeddings_all))"
   ]
  },
  {
   "cell_type": "code",
   "execution_count": 12,
   "id": "21256989-ffc6-4f98-b4cb-8e2c51ce11da",
   "metadata": {},
   "outputs": [
    {
     "data": {
      "application/vnd.jupyter.widget-view+json": {
       "model_id": "f28a455835514ef48d7903fb5248889c",
       "version_major": 2,
       "version_minor": 0
      },
      "text/plain": [
       "Uploading:   1%|          | 7.50M/1.32G [00:05<15:34, 1.51MB/s]"
      ]
     },
     "metadata": {},
     "output_type": "display_data"
    }
   ],
   "source": [
    "json_to_file(embeddings_all, join(root_dir, f'42R_2017-01-01--2023-07-10.json'))"
   ]
  },
  {
   "cell_type": "code",
   "execution_count": 14,
   "id": "355b3137-c9a0-438b-a959-fef2018477b8",
   "metadata": {},
   "outputs": [],
   "source": [
    "json_to_file(embeddings_all, f'42R_2017-01-01--2023-07-10.json')"
   ]
  },
  {
   "cell_type": "code",
   "execution_count": 34,
   "id": "2513b17a-3ae8-4663-a34b-b08d34880034",
   "metadata": {},
   "outputs": [
    {
     "data": {
      "text/plain": [
       "484"
      ]
     },
     "execution_count": 34,
     "metadata": {},
     "output_type": "execute_result"
    }
   ],
   "source": [
    "box_to_embeddings = {}\n",
    "windows = next(iter(embeddings_all.values()))['windows_pixel']\n",
    "windows = [Box(**w) for w in windows]\n",
    "len(windows)"
   ]
  },
  {
   "cell_type": "code",
   "execution_count": 40,
   "id": "9c1deaa1-2343-4725-8f33-90a7cd693d6f",
   "metadata": {},
   "outputs": [
    {
     "data": {
      "application/vnd.jupyter.widget-view+json": {
       "model_id": "8fc1bff13d6e42998d99c25cb31d4a1f",
       "version_major": 2,
       "version_minor": 0
      },
      "text/plain": [
       "  0%|          | 0/484 [00:00<?, ?it/s]"
      ]
     },
     "metadata": {},
     "output_type": "display_data"
    }
   ],
   "source": [
    "with tqdm(windows) as bar:\n",
    "    for i, w in enumerate(bar):\n",
    "        box_to_embeddings[w] = []\n",
    "        for t, d_t in embeddings_all.items():\n",
    "            e_w = d_t['embeddings'][i]\n",
    "            box_to_embeddings[w].append({t: e_w})\n"
   ]
  },
  {
   "cell_type": "code",
   "execution_count": 42,
   "id": "fb2d59ff-c3ce-461e-8ed7-6b45771c2743",
   "metadata": {},
   "outputs": [
    {
     "data": {
      "text/plain": [
       "317"
      ]
     },
     "execution_count": 42,
     "metadata": {},
     "output_type": "execute_result"
    }
   ],
   "source": [
    "len(box_to_embeddings[w])"
   ]
  }
 ],
 "metadata": {
  "kernelspec": {
   "display_name": "Python 3 (ipykernel)",
   "language": "python",
   "name": "python3"
  },
  "language_info": {
   "codemirror_mode": {
    "name": "ipython",
    "version": 3
   },
   "file_extension": ".py",
   "mimetype": "text/x-python",
   "name": "python",
   "nbconvert_exporter": "python",
   "pygments_lexer": "ipython3",
   "version": "3.10.12"
  }
 },
 "nbformat": 4,
 "nbformat_minor": 5
}
