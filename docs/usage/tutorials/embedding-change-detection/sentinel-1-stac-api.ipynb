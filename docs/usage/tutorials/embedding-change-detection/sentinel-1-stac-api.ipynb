{
 "cells": [
  {
   "cell_type": "code",
   "execution_count": 1,
   "id": "6f448f79-c3f3-4363-aefa-2bf8a6169a89",
   "metadata": {},
   "outputs": [
    {
     "name": "stdout",
     "output_type": "stream",
     "text": [
      "#items 2\n"
     ]
    },
    {
     "name": "stderr",
     "output_type": "stream",
     "text": [
      "/opt/conda/lib/python3.10/site-packages/stackstac/prepare.py:364: UserWarning: The argument 'infer_datetime_format' is deprecated and will be removed in a future version. A strict version of it is now the default, see https://pandas.pydata.org/pdeps/0004-consistent-to-datetime-parsing.html. You can safely remove this argument.\n",
      "  times = pd.to_datetime(\n",
      "/opt/conda/lib/python3.10/site-packages/stackstac/rio_reader.py:332: UserWarning: Error opening 'https://sentinel1euwestrtc.blob.core.windows.net/sentinel1-grd-rtc/GRD/2023/7/5/IW/DV/S1A_IW_GRDH_1SDV_20230705T182700_20230705T182725_049292_05ED5C_2931/measurement/iw-vh.rtc.tiff': RasterioIOError('HTTP response code: 404')\n",
      "  warnings.warn(msg)\n",
      "/opt/conda/lib/python3.10/site-packages/stackstac/rio_reader.py:332: UserWarning: Error opening 'https://sentinel1euwestrtc.blob.core.windows.net/sentinel1-grd-rtc/GRD/2023/7/17/IW/DV/S1A_IW_GRDH_1SDV_20230717T182700_20230717T182725_049467_05F2BE_26A4/measurement/iw-vh.rtc.tiff': RasterioIOError('HTTP response code: 404')\n",
      "  warnings.warn(msg)\n"
     ]
    },
    {
     "data": {
      "text/plain": [
       "array([nan, nan])"
      ]
     },
     "execution_count": 1,
     "metadata": {},
     "output_type": "execute_result"
    }
   ],
   "source": [
    "import os\n",
    "import pystac_client\n",
    "import stackstac\n",
    "from shapely.geometry import Point, mapping\n",
    "\n",
    "os.environ['AWS_REQUEST_PAYER'] = 'requester'\n",
    "os.environ['AWS_ACCESS_KEY_ID'] = ''\n",
    "os.environ['AWS_SECRET_ACCESS_KEY'] = ''\n",
    "os.environ['AWS_SESSION_TOKEN'] = ''\n",
    "\n",
    "URL = 'https://planetarycomputer.microsoft.com/api/stac/v1/'\n",
    "catalog = pystac_client.Client.open(URL)\n",
    "\n",
    "items = catalog.search(\n",
    "    intersects=mapping(Point(-2.254, 6.569)),\n",
    "    collections=['sentinel-1-rtc'],\n",
    "    datetime='2023-07-01/2023-07-31',\n",
    ").item_collection()\n",
    "print('#items', len(items))\n",
    "\n",
    "data_array = stackstac.stack(items)\n",
    "data_array.isel(x=0, y=0, band=0).to_numpy()"
   ]
  }
 ],
 "metadata": {
  "kernelspec": {
   "display_name": "Python 3 (ipykernel)",
   "language": "python",
   "name": "python3"
  },
  "language_info": {
   "codemirror_mode": {
    "name": "ipython",
    "version": 3
   },
   "file_extension": ".py",
   "mimetype": "text/x-python",
   "name": "python",
   "nbconvert_exporter": "python",
   "pygments_lexer": "ipython3",
   "version": "3.10.12"
  }
 },
 "nbformat": 4,
 "nbformat_minor": 5
}
