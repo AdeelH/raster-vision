{
 "cells": [
  {
   "cell_type": "code",
   "execution_count": 1,
   "id": "393e7ebd-4c68-4851-a2a8-560a8b5186e5",
   "metadata": {},
   "outputs": [],
   "source": [
    "import os\n",
    "\n",
    "os.environ['AWS_ACCESS_KEY_ID'] = ''\n",
    "os.environ['AWS_SECRET_ACCESS_KEY'] = ''\n",
    "os.environ['AWS_SESSION_TOKEN'] = ''"
   ]
  },
  {
   "cell_type": "code",
   "execution_count": 2,
   "id": "ef5dca1e-3544-4d53-8ebf-8ace602220ec",
   "metadata": {},
   "outputs": [
    {
     "name": "stderr",
     "output_type": "stream",
     "text": [
      "/opt/conda/lib/python3.10/site-packages/geopandas/_compat.py:124: UserWarning: The Shapely GEOS version (3.11.1-CAPI-1.17.1) is incompatible with the GEOS version PyGEOS was compiled with (3.10.4-CAPI-1.16.2). Conversions between both will be slow.\n",
      "  warnings.warn(\n"
     ]
    }
   ],
   "source": [
    "from os.path import join\n",
    "\n",
    "from tqdm.auto import tqdm, trange\n",
    "\n",
    "from rastervision.pipeline.file_system.utils import file_to_json, json_to_file"
   ]
  },
  {
   "cell_type": "code",
   "execution_count": 3,
   "id": "9fe5a61a-af18-4fd6-97ca-914c92e10f2a",
   "metadata": {},
   "outputs": [],
   "source": [
    "import numpy as np"
   ]
  },
  {
   "cell_type": "code",
   "execution_count": 8,
   "id": "6dec804e-e59b-472c-9751-a151cbb30ccd",
   "metadata": {},
   "outputs": [
    {
     "data": {
      "text/plain": [
       "-25.328436022934504"
      ]
     },
     "execution_count": 8,
     "metadata": {},
     "output_type": "execute_result"
    }
   ],
   "source": [
    "np.log()"
   ]
  }
 ],
 "metadata": {
  "kernelspec": {
   "display_name": "Python 3 (ipykernel)",
   "language": "python",
   "name": "python3"
  },
  "language_info": {
   "codemirror_mode": {
    "name": "ipython",
    "version": 3
   },
   "file_extension": ".py",
   "mimetype": "text/x-python",
   "name": "python",
   "nbconvert_exporter": "python",
   "pygments_lexer": "ipython3",
   "version": "3.10.12"
  }
 },
 "nbformat": 4,
 "nbformat_minor": 5
}
