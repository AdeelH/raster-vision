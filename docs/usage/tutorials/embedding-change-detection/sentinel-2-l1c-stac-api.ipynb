{
 "cells": [
  {
   "cell_type": "code",
   "execution_count": null,
   "id": "41012c62-200a-4918-b108-becc48cfab84",
   "metadata": {},
   "outputs": [],
   "source": [
    "import os\n",
    "import pystac_client\n",
    "import stackstac\n",
    "from shapely.geometry import Point, mapping\n",
    "\n",
    "os.environ['AWS_REQUEST_PAYER'] = 'requester'\n",
    "os.environ['AWS_ACCESS_KEY_ID'] = '...'\n",
    "os.environ['AWS_SECRET_ACCESS_KEY'] = '...'\n",
    "os.environ['AWS_SESSION_TOKEN'] = '...'\n",
    "\n",
    "URL = 'https://earth-search.aws.element84.com/v1'\n",
    "catalog = pystac_client.Client.open(URL)\n",
    "\n",
    "items = catalog.search(\n",
    "    intersects=mapping(Point(-2.254, 6.569)),\n",
    "    collections=['sentinel-2-l1c'],\n",
    "    datetime='2023-07-01/2023-07-31',\n",
    ").item_collection()\n",
    "\n",
    "data_array = stackstac.stack(items)\n",
    "data_array.isel(x=0, y=0, band=0).to_numpy()"
   ]
  },
  {
   "cell_type": "code",
   "execution_count": 15,
   "id": "ed79bd95-90e5-436d-9a8f-1a07c9e08b4b",
   "metadata": {},
   "outputs": [
    {
     "name": "stdout",
     "output_type": "stream",
     "text": [
      "2023-07-10 18:00:45   73796164 B02.jp2\n"
     ]
    }
   ],
   "source": [
    "!aws s3 ls s3://sentinel-s2-l1c/tiles/30/N/WN/2023/7/10/0/B02.jp2 --request-payer requester"
   ]
  },
  {
   "cell_type": "code",
   "execution_count": 18,
   "id": "0feb06c9-1219-47ed-beca-5e948e7d3b83",
   "metadata": {},
   "outputs": [],
   "source": [
    "import json\n",
    "\n",
    "items = type(items).from_dict(\n",
    "    json.loads(json.dumps(items.to_dict()).replace('s3://sentinel-s2-l2a/', 's3://sentinel-s2-l1c/')))"
   ]
  },
  {
   "cell_type": "code",
   "execution_count": 19,
   "id": "e5ef37de-028b-4d32-a6c5-cab5d369ab49",
   "metadata": {},
   "outputs": [
    {
     "name": "stderr",
     "output_type": "stream",
     "text": [
      "/opt/conda/lib/python3.10/site-packages/stackstac/prepare.py:364: UserWarning: The argument 'infer_datetime_format' is deprecated and will be removed in a future version. A strict version of it is now the default, see https://pandas.pydata.org/pdeps/0004-consistent-to-datetime-parsing.html. You can safely remove this argument.\n",
      "  times = pd.to_datetime(\n"
     ]
    },
    {
     "data": {
      "text/plain": [
       "array([0., 0., 0.])"
      ]
     },
     "execution_count": 19,
     "metadata": {},
     "output_type": "execute_result"
    }
   ],
   "source": [
    "data_array = stackstac.stack(items)\n",
    "data_array.isel(x=0, y=0, band=0).to_numpy()"
   ]
  }
 ],
 "metadata": {
  "kernelspec": {
   "display_name": "Python 3 (ipykernel)",
   "language": "python",
   "name": "python3"
  },
  "language_info": {
   "codemirror_mode": {
    "name": "ipython",
    "version": 3
   },
   "file_extension": ".py",
   "mimetype": "text/x-python",
   "name": "python",
   "nbconvert_exporter": "python",
   "pygments_lexer": "ipython3",
   "version": "3.10.12"
  }
 },
 "nbformat": 4,
 "nbformat_minor": 5
}
