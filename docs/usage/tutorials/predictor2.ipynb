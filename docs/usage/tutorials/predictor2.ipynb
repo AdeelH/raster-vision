{
 "cells": [
  {
   "cell_type": "code",
   "execution_count": 1,
   "id": "64b37ab4-bb1d-4f32-8e48-5230fdbe4a11",
   "metadata": {},
   "outputs": [
    {
     "name": "stdout",
     "output_type": "stream",
     "text": [
      "env: RASTERVISION_PREDICT_NUM_WORKERS=0\n"
     ]
    }
   ],
   "source": [
    "%env RASTERVISION_PREDICT_NUM_WORKERS=0"
   ]
  },
  {
   "cell_type": "code",
   "execution_count": 2,
   "id": "ae51968d-970f-48fd-abc8-c9b5c4aa1c7b",
   "metadata": {},
   "outputs": [],
   "source": [
    "from os.path import join\n",
    "\n",
    "from rastervision.pipeline.file_system.utils import json_to_file\n",
    "from rastervision.core.data import (\n",
    "    RasterioSourceConfig, SceneConfig, SemanticSegmentationLabelStoreConfig)\n",
    "from rastervision.core.predictor import Predictor2"
   ]
  },
  {
   "cell_type": "code",
   "execution_count": 3,
   "id": "19c7e202-2230-42fd-86bf-ab53411c11a0",
   "metadata": {},
   "outputs": [],
   "source": [
    "raster_source_config = RasterioSourceConfig(\n",
    "    uris='https://s3.amazonaws.com/azavea-research-public-data/raster-vision/examples/model-zoo-0.21/isprs-potsdam-ss/sample-predictions/sample-img-isprs-potsdam-ss.tif',\n",
    "    channel_order=[3, 0, 1],\n",
    ")"
   ]
  },
  {
   "cell_type": "code",
   "execution_count": 4,
   "id": "c9d16abe-548e-4928-b606-37d48b857c72",
   "metadata": {},
   "outputs": [],
   "source": [
    "label_store_config = SemanticSegmentationLabelStoreConfig(\n",
    "    uri='./predict_scene_test',\n",
    ")"
   ]
  },
  {
   "cell_type": "code",
   "execution_count": 5,
   "id": "2b4388c1-efdf-48e8-8514-3afcd768a1e7",
   "metadata": {},
   "outputs": [],
   "source": [
    "scene_config = SceneConfig(\n",
    "    id='test_scene',\n",
    "    raster_source=raster_source_config,\n",
    "    label_store=label_store_config\n",
    ")"
   ]
  },
  {
   "cell_type": "code",
   "execution_count": 6,
   "id": "6b35ff0f-1a18-4782-9b03-5963c32095a1",
   "metadata": {},
   "outputs": [],
   "source": [
    "model_bundle_uri = 'https://s3.amazonaws.com/azavea-research-public-data/raster-vision/examples/model-zoo-0.21/isprs-potsdam-ss/model-bundle.zip'"
   ]
  },
  {
   "cell_type": "code",
   "execution_count": 7,
   "id": "d80a4ecd-809b-49dd-a910-f359bda5566b",
   "metadata": {},
   "outputs": [
    {
     "name": "stderr",
     "output_type": "stream",
     "text": [
      "2023-11-03 18:19:27:rastervision.pipeline.file_system.utils: INFO - Using cached file /opt/data/tmp/cache/http/s3.amazonaws.com/azavea-research-public-data/raster-vision/examples/model-zoo-0.21/isprs-potsdam-ss/model-bundle.zip.\n",
      "2023-11-03 18:19:27:rastervision.pytorch_learner.learner: INFO - Loading learner from bundle /opt/data/tmp/tmpqpcck526/bundle/model-bundle.zip.\n",
      "2023-11-03 18:19:27:rastervision.pytorch_learner.learner: INFO - Unzipping model-bundle to /opt/data/tmp/tmpqpcck526/model-bundle\n",
      "2023-11-03 18:19:28:rastervision.pytorch_learner.learner: INFO - Using model definition found in bundle: /opt/data/tmp/tmpqpcck526/model-bundle/modules/fpn\n",
      "2023-11-03 18:19:28:rastervision.pytorch_learner.learner: INFO - Local output dir: /opt/data/tmp/tmpqpcck526/s3/raster-vision/examples/0.21/output/isprs-potsdam-ss/train\n",
      "2023-11-03 18:19:28:rastervision.pytorch_learner.learner: INFO - Remote output dir: s3://raster-vision/examples/0.21/output/isprs-potsdam-ss/train\n",
      "2023-11-03 18:19:28:rastervision.pytorch_learner.learner_config: INFO - Using existing module definition at: /opt/data/tmp/tmpqpcck526/model-bundle/modules/fpn\n",
      "2023-11-03 18:19:29:rastervision.pytorch_learner.learner: INFO - Loading model weights from: /opt/data/tmp/tmpqpcck526/model-bundle/model.pth\n"
     ]
    }
   ],
   "source": [
    "predictor = Predictor2(model_bundle_uri)"
   ]
  },
  {
   "cell_type": "code",
   "execution_count": 8,
   "id": "fed616ce-ec38-4a4b-a330-6cfe4175a719",
   "metadata": {},
   "outputs": [],
   "source": [
    "scene_config_uri = join('predict_scene_test', 'scene-config.json')\n",
    "json_to_file(scene_config.dict(), scene_config_uri)"
   ]
  },
  {
   "cell_type": "code",
   "execution_count": 9,
   "id": "73e8fb37-90de-41dd-b8d3-c78f7cda4018",
   "metadata": {},
   "outputs": [
    {
     "name": "stderr",
     "output_type": "stream",
     "text": [
      "2023-11-03 18:19:35:rastervision.pipeline.file_system.utils: INFO - Using cached file /opt/data/tmp/cache/http/s3.amazonaws.com/azavea-research-public-data/raster-vision/examples/model-zoo-0.21/isprs-potsdam-ss/sample-predictions/sample-img-isprs-potsdam-ss.tif.\n"
     ]
    },
    {
     "name": "stdout",
     "output_type": "stream",
     "text": [
      "{'collate_fn': None, 'batch_size': 8, 'num_workers': 0, 'shuffle': False, 'pin_memory': True}\n"
     ]
    },
    {
     "data": {
      "application/vnd.jupyter.widget-view+json": {
       "model_id": "0d035f105b3a42b49c215e9441516d80",
       "version_major": 2,
       "version_minor": 0
      },
      "text/plain": [
       "Making predictions on test_scene:   0%|          | 0/121 [00:00<?, ?it/s]"
      ]
     },
     "metadata": {},
     "output_type": "display_data"
    },
    {
     "data": {
      "application/vnd.jupyter.widget-view+json": {
       "model_id": "8f23af0cfd024c1aa1eaa08d52b6a68b",
       "version_major": 2,
       "version_minor": 0
      },
      "text/plain": [
       "Saving pixel labels:   0%|          | 0/13 [00:00<?, ?it/s]"
      ]
     },
     "metadata": {},
     "output_type": "display_data"
    }
   ],
   "source": [
    "predictor.predict(scene_config_uri)"
   ]
  }
 ],
 "metadata": {
  "kernelspec": {
   "display_name": "Python 3 (ipykernel)",
   "language": "python",
   "name": "python3"
  },
  "language_info": {
   "codemirror_mode": {
    "name": "ipython",
    "version": 3
   },
   "file_extension": ".py",
   "mimetype": "text/x-python",
   "name": "python",
   "nbconvert_exporter": "python",
   "pygments_lexer": "ipython3",
   "version": "3.10.12"
  }
 },
 "nbformat": 4,
 "nbformat_minor": 5
}
