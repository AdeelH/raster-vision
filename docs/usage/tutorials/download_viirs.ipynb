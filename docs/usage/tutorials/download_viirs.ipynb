{
 "cells": [
  {
   "cell_type": "code",
   "execution_count": 49,
   "id": "751b8158-07fb-4293-adb5-9bc575ef45f3",
   "metadata": {},
   "outputs": [],
   "source": [
    "from os.path import join, basename\n",
    "from time import sleep\n",
    "\n",
    "from tqdm.auto import tqdm\n",
    "import pandas as pd\n",
    "import geopandas as gpd\n",
    "from shapely.geometry import Point, mapping\n",
    "import pystac_client\n",
    "from matplotlib import pyplot as plt"
   ]
  },
  {
   "cell_type": "code",
   "execution_count": 11,
   "id": "5cdc2a3e-6571-4bec-a92c-40a800f08ee7",
   "metadata": {},
   "outputs": [
    {
     "data": {
      "text/html": [
       "<div>\n",
       "<style scoped>\n",
       "    .dataframe tbody tr th:only-of-type {\n",
       "        vertical-align: middle;\n",
       "    }\n",
       "\n",
       "    .dataframe tbody tr th {\n",
       "        vertical-align: top;\n",
       "    }\n",
       "\n",
       "    .dataframe thead th {\n",
       "        text-align: right;\n",
       "    }\n",
       "</style>\n",
       "<table border=\"1\" class=\"dataframe\">\n",
       "  <thead>\n",
       "    <tr style=\"text-align: right;\">\n",
       "      <th></th>\n",
       "      <th>date</th>\n",
       "      <th>lat</th>\n",
       "      <th>lon</th>\n",
       "      <th>geometry</th>\n",
       "    </tr>\n",
       "  </thead>\n",
       "  <tbody>\n",
       "    <tr>\n",
       "      <th>0</th>\n",
       "      <td>2022-01-06</td>\n",
       "      <td>29.5351</td>\n",
       "      <td>58.7577</td>\n",
       "      <td>POINT (58.75770 29.53510)</td>\n",
       "    </tr>\n",
       "    <tr>\n",
       "      <th>1</th>\n",
       "      <td>2022-01-11</td>\n",
       "      <td>36.5726</td>\n",
       "      <td>62.4626</td>\n",
       "      <td>POINT (62.46260 36.57260)</td>\n",
       "    </tr>\n",
       "    <tr>\n",
       "      <th>2</th>\n",
       "      <td>2022-01-14</td>\n",
       "      <td>37.5128</td>\n",
       "      <td>65.0667</td>\n",
       "      <td>POINT (65.06670 37.51280)</td>\n",
       "    </tr>\n",
       "    <tr>\n",
       "      <th>3</th>\n",
       "      <td>2022-01-21</td>\n",
       "      <td>29.4008</td>\n",
       "      <td>58.8920</td>\n",
       "      <td>POINT (58.89200 29.40080)</td>\n",
       "    </tr>\n",
       "    <tr>\n",
       "      <th>4</th>\n",
       "      <td>2022-01-22</td>\n",
       "      <td>28.2458</td>\n",
       "      <td>63.2680</td>\n",
       "      <td>POINT (63.26800 28.24580)</td>\n",
       "    </tr>\n",
       "  </tbody>\n",
       "</table>\n",
       "</div>"
      ],
      "text/plain": [
       "        date      lat      lon                   geometry\n",
       "0 2022-01-06  29.5351  58.7577  POINT (58.75770 29.53510)\n",
       "1 2022-01-11  36.5726  62.4626  POINT (62.46260 36.57260)\n",
       "2 2022-01-14  37.5128  65.0667  POINT (65.06670 37.51280)\n",
       "3 2022-01-21  29.4008  58.8920  POINT (58.89200 29.40080)\n",
       "4 2022-01-22  28.2458  63.2680  POINT (63.26800 28.24580)"
      ]
     },
     "execution_count": 11,
     "metadata": {},
     "output_type": "execute_result"
    }
   ],
   "source": [
    "df = pd.read_csv('/home/ahassan/un-sandstorm/data/2022.csv', parse_dates=['date'], date_format='%Y-%b-%d')\n",
    "geometry = [Point(lon, lat) for lon, lat in zip(df['lon'], df['lat'])]\n",
    "gdf = gpd.GeoDataFrame(df, geometry=geometry, crs='EPSG:4326')\n",
    "gdf.head()"
   ]
  },
  {
   "cell_type": "code",
   "execution_count": 29,
   "id": "ff91a739-2d3d-4df6-8d94-bd20def00a14",
   "metadata": {},
   "outputs": [],
   "source": [
    "URL = 'https://cmr.earthdata.nasa.gov/stac/LPCLOUD/'\n",
    "catalog = pystac_client.Client.open(URL)\n",
    "collections = ['VNP09GA.v002']"
   ]
  },
  {
   "cell_type": "code",
   "execution_count": 48,
   "id": "0e06331f-c6f9-491c-b8cc-384cbeadb2c6",
   "metadata": {},
   "outputs": [
    {
     "data": {
      "application/vnd.jupyter.widget-view+json": {
       "model_id": "fb23e1a6493d49dfadc4bf1384c0d406",
       "version_major": 2,
       "version_minor": 0
      },
      "text/plain": [
       "  0%|          | 0/165 [00:00<?, ?it/s]"
      ]
     },
     "metadata": {},
     "output_type": "display_data"
    },
    {
     "data": {
      "text/plain": [
       "163"
      ]
     },
     "execution_count": 48,
     "metadata": {},
     "output_type": "execute_result"
    }
   ],
   "source": [
    "stac_items = {}\n",
    "with tqdm(gdf.itertuples(index=False), total=len(gdf)) as bar:\n",
    "    for row in bar:\n",
    "        search = catalog.search(\n",
    "            intersects=mapping(row.geometry),\n",
    "            collections=collections,\n",
    "            datetime=str(row.date.date()),\n",
    "        )\n",
    "        items = search.item_collection()\n",
    "        for item in items:\n",
    "            if item.id in stac_items:\n",
    "                continue\n",
    "            stac_items[item.id] = item\n",
    "        sleep(0.5)\n",
    "len(stac_items)"
   ]
  },
  {
   "cell_type": "code",
   "execution_count": 55,
   "id": "9fbc783f-c365-485b-998a-733572563d79",
   "metadata": {},
   "outputs": [
    {
     "name": "stdout",
     "output_type": "stream",
     "text": [
      "/home/ahassan/un-sandstorm/data/downloaded/2022/VNP09GA.A2022270.h21v07.002.2023058081633.h5\n"
     ]
    }
   ],
   "source": [
    "download_dir = '/home/ahassan/un-sandstorm/data/downloaded/2022'\n",
    "src_uri = item.assets['data'].href\n",
    "filename = basename(src_uri)\n",
    "dst_path = join(download_dir, filename)\n",
    "print(dst_path)"
   ]
  },
  {
   "cell_type": "code",
   "execution_count": 57,
   "id": "e118ebf7-ccc4-4148-812c-c32da9aa32bf",
   "metadata": {},
   "outputs": [],
   "source": [
    "from rastervision.pipeline.file_system import HttpFileSystem"
   ]
  },
  {
   "cell_type": "code",
   "execution_count": 58,
   "id": "7bfc52d6-d556-4569-be85-9fb4c6a50408",
   "metadata": {},
   "outputs": [],
   "source": [
    "bearer_token = ''"
   ]
  },
  {
   "cell_type": "code",
   "execution_count": 59,
   "id": "a568aec8-8420-4443-babb-5ab7703520cd",
   "metadata": {},
   "outputs": [],
   "source": [
    "HttpFileSystem.copy_from(src_uri, dst_path, headers={'Authorization': f'Bearer {bearer_token}'})"
   ]
  },
  {
   "cell_type": "code",
   "execution_count": 61,
   "id": "3086d0fd-f7b9-4d34-98d2-b2c77f4e672c",
   "metadata": {},
   "outputs": [],
   "source": [
    "!rm {dst_path}"
   ]
  }
 ],
 "metadata": {
  "kernelspec": {
   "display_name": "Python 3 (ipykernel)",
   "language": "python",
   "name": "python3"
  },
  "language_info": {
   "codemirror_mode": {
    "name": "ipython",
    "version": 3
   },
   "file_extension": ".py",
   "mimetype": "text/x-python",
   "name": "python",
   "nbconvert_exporter": "python",
   "pygments_lexer": "ipython3",
   "version": "3.10.12"
  }
 },
 "nbformat": 4,
 "nbformat_minor": 5
}
