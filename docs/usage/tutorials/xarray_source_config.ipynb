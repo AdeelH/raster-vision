{
 "cells": [
  {
   "cell_type": "code",
   "execution_count": 1,
   "id": "26f050d6-ace8-4e3b-8ef7-3b2d7104febf",
   "metadata": {},
   "outputs": [],
   "source": [
    "import pystac_client\n",
    "from shapely.geometry import mapping\n",
    "\n",
    "from rastervision.pipeline.file_system.utils import json_to_file\n",
    "from rastervision.core.box import Box\n",
    "from rastervision.core.data import XarraySourceConfig, STACItemConfig"
   ]
  },
  {
   "cell_type": "code",
   "execution_count": 2,
   "id": "216f4a88-382a-4510-86e6-cee9d41aa0eb",
   "metadata": {},
   "outputs": [],
   "source": [
    "bbox = Box(ymin=48.8155755, xmin=2.224122, ymax=48.902156, xmax=2.4697602)\n",
    "bbox_geometry = mapping(bbox.to_shapely().oriented_envelope)"
   ]
  },
  {
   "cell_type": "code",
   "execution_count": 7,
   "id": "e23c24b6-a84a-4cb0-b12d-c8f5d674d7b7",
   "metadata": {},
   "outputs": [],
   "source": [
    "URL = \"https://earth-search.aws.element84.com/v1\"\n",
    "catalog = pystac_client.Client.open(URL)\n",
    "\n",
    "items = catalog.search(\n",
    "    intersects=bbox_geometry,\n",
    "    collections=[\"sentinel-2-l2a\"],\n",
    "    datetime=\"2023-06-01/2023-06-20\",\n",
    ").get_all_items()"
   ]
  },
  {
   "cell_type": "code",
   "execution_count": 10,
   "id": "5843e443-69ae-45fd-8d3e-1cf2fd2c254b",
   "metadata": {},
   "outputs": [],
   "source": [
    "item = items[0]\n",
    "json_to_file(item.to_dict(), 'xarray_source_config/item.json')"
   ]
  },
  {
   "cell_type": "code",
   "execution_count": 3,
   "id": "8651ac70-c179-43af-9b97-0d0853040382",
   "metadata": {},
   "outputs": [],
   "source": [
    "raster_source_config = XarraySourceConfig(\n",
    "    stac=STACItemConfig(\n",
    "        uri='xarray_source_config/item.json', \n",
    "        assets=[\n",
    "        'coastal', # B01\n",
    "        'blue', # B02\n",
    "        'green', # B03\n",
    "        # 'red', # B04\n",
    "        # 'rededge1', # B05\n",
    "        # 'rededge2', # B06\n",
    "        # 'rededge3', # B07\n",
    "        # 'nir', # B08\n",
    "        # 'nir08', # B8A\n",
    "        # 'nir09', # B09\n",
    "        # 'swir16', # B11\n",
    "        # 'swir22', # B12\n",
    "    ]),\n",
    "    bbox_map_coords=tuple(bbox),\n",
    ")"
   ]
  },
  {
   "cell_type": "code",
   "execution_count": 5,
   "id": "b6170c67-64a2-46b5-8ffc-df395e7969fc",
   "metadata": {},
   "outputs": [],
   "source": [
    "rs = raster_source_config.build()"
   ]
  },
  {
   "cell_type": "code",
   "execution_count": null,
   "id": "a4f694b6-ca76-44de-af3c-f326302e4bb1",
   "metadata": {},
   "outputs": [],
   "source": []
  },
  {
   "cell_type": "code",
   "execution_count": 3,
   "id": "a70c8038-a60c-4ddc-9994-8c025745d320",
   "metadata": {},
   "outputs": [],
   "source": [
    "from os.path import join\n",
    "\n",
    "from rastervision.pipeline.file_system.utils import json_to_file\n",
    "from rastervision.core.data import (\n",
    "    RasterioSourceConfig, SceneConfig, SemanticSegmentationLabelStoreConfig)\n",
    "from rastervision.core.predictor import Predictor2"
   ]
  },
  {
   "cell_type": "code",
   "execution_count": 11,
   "id": "2f4aa09f-bbab-4541-9fa0-34b77459cf85",
   "metadata": {},
   "outputs": [],
   "source": [
    "label_store_config = SemanticSegmentationLabelStoreConfig(\n",
    "    uri='./xarray_source_config/pred',\n",
    ")"
   ]
  },
  {
   "cell_type": "code",
   "execution_count": 19,
   "id": "86f45e72-ce1f-4ef5-be8e-f818a8da07bf",
   "metadata": {},
   "outputs": [],
   "source": [
    "scene_config = SceneConfig(\n",
    "    id='test_scene',\n",
    "    raster_source=raster_source_config,\n",
    "    label_store=label_store_config\n",
    ")"
   ]
  },
  {
   "cell_type": "code",
   "execution_count": 4,
   "id": "733b2c35-e3d0-4110-9e34-bb2ec80e242f",
   "metadata": {},
   "outputs": [],
   "source": [
    "scene_config_uri = join('./xarray_source_config/pred', 'scene-config.json')\n",
    "json_to_file(scene_config.dict(), scene_config_uri)"
   ]
  },
  {
   "cell_type": "code",
   "execution_count": 5,
   "id": "0118f962-cff7-42dd-b31a-5b96ac55500c",
   "metadata": {},
   "outputs": [],
   "source": [
    "model_bundle_uri = 'https://s3.amazonaws.com/azavea-research-public-data/raster-vision/examples/model-zoo-0.21/isprs-potsdam-ss/model-bundle.zip'"
   ]
  },
  {
   "cell_type": "code",
   "execution_count": 6,
   "id": "4d989211-7098-41d6-b4cd-1eb37b994472",
   "metadata": {},
   "outputs": [
    {
     "name": "stderr",
     "output_type": "stream",
     "text": [
      "2023-11-05 18:33:08:rastervision.pipeline.file_system.utils: INFO - Using cached file /opt/data/tmp/cache/http/s3.amazonaws.com/azavea-research-public-data/raster-vision/examples/model-zoo-0.21/isprs-potsdam-ss/model-bundle.zip.\n",
      "2023-11-05 18:33:09:rastervision.pytorch_learner.learner: INFO - Loading learner from bundle /opt/data/tmp/tmpajpm8oa2/bundle/model-bundle.zip.\n",
      "2023-11-05 18:33:09:rastervision.pytorch_learner.learner: INFO - Unzipping model-bundle to /opt/data/tmp/tmpajpm8oa2/model-bundle\n",
      "2023-11-05 18:33:09:rastervision.pytorch_learner.learner: INFO - Using model definition found in bundle: /opt/data/tmp/tmpajpm8oa2/model-bundle/modules/fpn\n",
      "2023-11-05 18:33:09:rastervision.pytorch_learner.learner: INFO - Local output dir: /opt/data/tmp/tmpajpm8oa2/s3/raster-vision/examples/0.21/output/isprs-potsdam-ss/train\n",
      "2023-11-05 18:33:09:rastervision.pytorch_learner.learner: INFO - Remote output dir: s3://raster-vision/examples/0.21/output/isprs-potsdam-ss/train\n",
      "2023-11-05 18:33:09:rastervision.pytorch_learner.learner_config: INFO - Using existing module definition at: /opt/data/tmp/tmpajpm8oa2/model-bundle/modules/fpn\n",
      "Downloading: \"https://download.pytorch.org/models/resnet50-0676ba61.pth\" to /root/.cache/torch/hub/checkpoints/resnet50-0676ba61.pth\n",
      "100%|██████████████████████████████████████████████████████████████████████████████| 97.8M/97.8M [00:03<00:00, 28.7MB/s]\n",
      "2023-11-05 18:33:14:rastervision.pytorch_learner.learner: INFO - Loading model weights from: /opt/data/tmp/tmpajpm8oa2/model-bundle/model.pth\n"
     ]
    }
   ],
   "source": [
    "predictor = Predictor2(model_bundle_uri)"
   ]
  },
  {
   "cell_type": "code",
   "execution_count": 7,
   "id": "db2437d5-e3c2-415a-921e-d4dfd8221d45",
   "metadata": {},
   "outputs": [
    {
     "name": "stdout",
     "output_type": "stream",
     "text": [
      "env: RASTERVISION_PREDICT_NUM_WORKERS=2\n"
     ]
    }
   ],
   "source": [
    "%env RASTERVISION_PREDICT_NUM_WORKERS=0"
   ]
  },
  {
   "cell_type": "code",
   "execution_count": 21,
   "id": "d67825b2-9804-4f29-9d1c-d364cf0cf952",
   "metadata": {},
   "outputs": [
    {
     "data": {
      "application/vnd.jupyter.widget-view+json": {
       "model_id": "ae30deb36aee4a2ab60ebf9a9b8be54b",
       "version_major": 2,
       "version_minor": 0
      },
      "text/plain": [
       "Making predictions on test_scene:   0%|          | 0/18 [00:00<?, ?it/s]"
      ]
     },
     "metadata": {},
     "output_type": "display_data"
    },
    {
     "data": {
      "application/vnd.jupyter.widget-view+json": {
       "model_id": "d1212ee616e24471992b0edd095ebed9",
       "version_major": 2,
       "version_minor": 0
      },
      "text/plain": [
       "Saving pixel labels:   0%|          | 0/4 [00:00<?, ?it/s]"
      ]
     },
     "metadata": {},
     "output_type": "display_data"
    }
   ],
   "source": [
    "predictor.predict(scene_config_uri)"
   ]
  },
  {
   "cell_type": "markdown",
   "id": "f30fa871-d3c9-4058-974b-07fe54069556",
   "metadata": {},
   "source": [
    "CLI:"
   ]
  },
  {
   "cell_type": "code",
   "execution_count": 17,
   "id": "d566619e-ee90-4102-9361-f2388e416587",
   "metadata": {},
   "outputs": [
    {
     "name": "stdout",
     "output_type": "stream",
     "text": [
      "2023-11-05 18:49:33:rastervision.pipeline.file_system.utils: INFO - Using cached file /opt/data/tmp/cache/http/s3.amazonaws.com/azavea-research-public-data/raster-vision/examples/model-zoo-0.21/isprs-potsdam-ss/model-bundle.zip.\n",
      "2023-11-05 18:49:34:rastervision.pytorch_learner.learner: INFO - Loading learner from bundle /opt/data/tmp/tmpsm6j2_e7/bundle/model-bundle.zip.\n",
      "2023-11-05 18:49:34:rastervision.pytorch_learner.learner: INFO - Unzipping model-bundle to /opt/data/tmp/tmpsm6j2_e7/model-bundle\n",
      "2023-11-05 18:49:34:rastervision.pytorch_learner.learner: INFO - Using model definition found in bundle: /opt/data/tmp/tmpsm6j2_e7/model-bundle/modules/fpn\n",
      "2023-11-05 18:49:34:rastervision.pytorch_learner.learner: INFO - Local output dir: /opt/data/tmp/tmpsm6j2_e7/s3/raster-vision/examples/0.21/output/isprs-potsdam-ss/train\n",
      "2023-11-05 18:49:34:rastervision.pytorch_learner.learner: INFO - Remote output dir: s3://raster-vision/examples/0.21/output/isprs-potsdam-ss/train\n",
      "2023-11-05 18:49:34:rastervision.pytorch_learner.learner_config: INFO - Using existing module definition at: /opt/data/tmp/tmpsm6j2_e7/model-bundle/modules/fpn\n",
      "2023-11-05 18:49:35:rastervision.pytorch_learner.learner: INFO - Loading model weights from: /opt/data/tmp/tmpsm6j2_e7/model-bundle/model.pth\n",
      "num_workers 2\n",
      "Making predictions on test_scene: 100%|█████████| 18/18 [00:04<00:00,  3.78it/s]\n",
      "Saving pixel labels: 100%|███████████████████████| 4/4 [00:00<00:00, 168.37it/s]\n"
     ]
    }
   ],
   "source": [
    "!rastervision predict_scene {model_bundle_uri} {scene_config_uri}"
   ]
  },
  {
   "cell_type": "code",
   "execution_count": 17,
   "id": "7f59404e-b29a-407e-b7d4-d7c09fc840a8",
   "metadata": {},
   "outputs": [
    {
     "name": "stdout",
     "output_type": "stream",
     "text": [
      "2023-11-05 18:49:33:rastervision.pipeline.file_system.utils: INFO - Using cached file /opt/data/tmp/cache/http/s3.amazonaws.com/azavea-research-public-data/raster-vision/examples/model-zoo-0.21/isprs-potsdam-ss/model-bundle.zip.\n",
      "2023-11-05 18:49:34:rastervision.pytorch_learner.learner: INFO - Loading learner from bundle /opt/data/tmp/tmpsm6j2_e7/bundle/model-bundle.zip.\n",
      "2023-11-05 18:49:34:rastervision.pytorch_learner.learner: INFO - Unzipping model-bundle to /opt/data/tmp/tmpsm6j2_e7/model-bundle\n",
      "2023-11-05 18:49:34:rastervision.pytorch_learner.learner: INFO - Using model definition found in bundle: /opt/data/tmp/tmpsm6j2_e7/model-bundle/modules/fpn\n",
      "2023-11-05 18:49:34:rastervision.pytorch_learner.learner: INFO - Local output dir: /opt/data/tmp/tmpsm6j2_e7/s3/raster-vision/examples/0.21/output/isprs-potsdam-ss/train\n",
      "2023-11-05 18:49:34:rastervision.pytorch_learner.learner: INFO - Remote output dir: s3://raster-vision/examples/0.21/output/isprs-potsdam-ss/train\n",
      "2023-11-05 18:49:34:rastervision.pytorch_learner.learner_config: INFO - Using existing module definition at: /opt/data/tmp/tmpsm6j2_e7/model-bundle/modules/fpn\n",
      "2023-11-05 18:49:35:rastervision.pytorch_learner.learner: INFO - Loading model weights from: /opt/data/tmp/tmpsm6j2_e7/model-bundle/model.pth\n",
      "num_workers 2\n",
      "Making predictions on test_scene: 100%|█████████| 18/18 [00:04<00:00,  3.78it/s]\n",
      "Saving pixel labels: 100%|███████████████████████| 4/4 [00:00<00:00, 168.37it/s]\n"
     ]
    }
   ],
   "source": [
    "!rastervision predict_scene 'eurosat/train/' {scene_config_uri}"
   ]
  }
 ],
 "metadata": {
  "kernelspec": {
   "display_name": "Python 3 (ipykernel)",
   "language": "python",
   "name": "python3"
  },
  "language_info": {
   "codemirror_mode": {
    "name": "ipython",
    "version": 3
   },
   "file_extension": ".py",
   "mimetype": "text/x-python",
   "name": "python",
   "nbconvert_exporter": "python",
   "pygments_lexer": "ipython3",
   "version": "3.10.12"
  }
 },
 "nbformat": 4,
 "nbformat_minor": 5
}
