{
 "cells": [
  {
   "cell_type": "markdown",
   "id": "ca62a460-b3b3-49ee-a05d-a3b85593d440",
   "metadata": {
    "id": "5strJ-8owQZI"
   },
   "source": [
    "1. Make sure you have access to the \"Azavea R&D\" AWS account\n",
    "2. Clone this notebook: `File > Save a copy in Drive`\n",
    "3. Enable GPU: `Runtime > Change runtime type > Hardware Accelerator > T4 GPU`"
   ]
  },
  {
   "cell_type": "markdown",
   "id": "61fac963-a673-499d-8478-6d020a340d5e",
   "metadata": {
    "id": "rq_tPaSAp0Xt"
   },
   "source": [
    "## Setup"
   ]
  },
  {
   "cell_type": "markdown",
   "id": "d6707814-4723-4f7b-9fe6-9de7cfaf15cc",
   "metadata": {
    "id": "z3-OTUWJp5Nd"
   },
   "source": [
    "Install Raster Vision"
   ]
  },
  {
   "cell_type": "code",
   "execution_count": null,
   "id": "5d19f780-af8c-4f5d-8f82-684958705ade",
   "metadata": {
    "id": "1f5e9db0-3bff-44a5-a22d-397dfa516471"
   },
   "outputs": [],
   "source": [
    "!git clone --depth=1 https://github.com/AdeelH/raster-vision.git && \\\n",
    "  cd raster-vision && \\\n",
    "  git fetch https://github.com/AdeelH/raster-vision.git qe && \\\n",
    "  git checkout FETCH_HEAD && \\\n",
    "  cd -"
   ]
  },
  {
   "cell_type": "code",
   "execution_count": null,
   "id": "9b140c61-7544-4a4b-80f3-ec4a0174a858",
   "metadata": {
    "id": "7e35d4d2-46c0-4251-a572-779521536c56"
   },
   "outputs": [],
   "source": [
    "%pip install -q raster-vision/rastervision_pipeline;\n",
    "%pip install -q raster-vision/rastervision_aws_s3;\n",
    "%pip install -q raster-vision/rastervision_core;\n",
    "%pip install -q raster-vision/rastervision_pytorch_learner;"
   ]
  },
  {
   "cell_type": "markdown",
   "id": "02a5e9c6-9d1d-4369-9474-f811ac1ceae2",
   "metadata": {
    "id": "BNwyw0xhzeI7"
   },
   "source": [
    "Install other dependencies:"
   ]
  },
  {
   "cell_type": "code",
   "execution_count": null,
   "id": "0f03530b-5e8b-47ee-b29f-b8a09af3d1d7",
   "metadata": {
    "id": "7f2ae986-ad1a-4b41-87d3-47d234b4e85d"
   },
   "outputs": [],
   "source": [
    "%pip install -q open_clip_torch"
   ]
  },
  {
   "cell_type": "markdown",
   "id": "a70b4e5f-8b17-43ed-95a2-826aaba2abf4",
   "metadata": {
    "id": "8O-gwSqCqSoz"
   },
   "source": [
    "---\n",
    "\n",
    "!!! **Restart kernel here** !!!\n",
    "\n",
    "---"
   ]
  },
  {
   "cell_type": "markdown",
   "id": "dbbce108-f7f2-4556-a714-1f91cdf23468",
   "metadata": {
    "id": "t3uXEk6OzXnf"
   },
   "source": [
    "Set AWS credentials:"
   ]
  },
  {
   "cell_type": "code",
   "execution_count": null,
   "id": "0723b3dc-064b-475e-9371-f420fc63ae8a",
   "metadata": {
    "id": "eb4bdb6a-3a3b-4c41-be8f-f64e1bcbbf43"
   },
   "outputs": [],
   "source": [
    "%%capture\n",
    "%env AWS_REQUEST_PAYER=requester\n",
    "%env AWS_ACCESS_KEY_ID=\n",
    "%env AWS_SECRET_ACCESS_KEY=\n",
    "%env AWS_SESSION_TOKEN="
   ]
  },
  {
   "cell_type": "markdown",
   "id": "cf84cde3-4f09-4e70-9ee6-9105570405fe",
   "metadata": {
    "id": "35cf66ba-98db-4e2d-933b-b80db834ea87"
   },
   "source": [
    "---"
   ]
  },
  {
   "cell_type": "code",
   "execution_count": null,
   "id": "5b8ec9b7-b763-4632-a8c5-bfffb95e48ff",
   "metadata": {
    "id": "e3dcc1b5-4589-49e5-b266-f09e0efa2ec3"
   },
   "outputs": [],
   "source": [
    "from rastervision.core.box import Box\n",
    "from rastervision.core.data import RasterioSource\n",
    "\n",
    "from tqdm.auto import tqdm\n",
    "import numpy as np\n",
    "import torch\n",
    "from torch.utils.data import ConcatDataset, DataLoader\n",
    "import geopandas as gpd\n",
    "from matplotlib import pyplot as plt\n",
    "import seaborn as sns\n",
    "sns.reset_defaults()\n",
    "\n",
    "DEVICE = 'cuda'"
   ]
  },
  {
   "cell_type": "markdown",
   "id": "e814baa5-2d8f-4cc4-9658-55771f89008c",
   "metadata": {
    "id": "4720fa83-b288-48e3-b40e-1910d26c636b"
   },
   "source": [
    "---"
   ]
  },
  {
   "cell_type": "code",
   "execution_count": 10,
   "id": "94ea9a13-ae1e-43a2-b3e9-4117f89f1838",
   "metadata": {},
   "outputs": [],
   "source": [
    "from os.path import join\n",
    "from glob import glob\n",
    "import gc\n",
    "\n",
    "from rastervision.pipeline.file_system.utils import json_to_file\n",
    "from rastervision.core.box import Box\n",
    "from rastervision.core.data import RasterioSource\n",
    "from rastervision.pytorch_learner.dataset import (\n",
    "    SemanticSegmentationSlidingWindowGeoDataset)\n",
    "\n",
    "from tqdm.auto import tqdm\n",
    "import numpy as np\n",
    "import torch\n",
    "from torch.utils.data import ConcatDataset, DataLoader\n",
    "\n",
    "DEVICE = 'cuda'"
   ]
  },
  {
   "cell_type": "markdown",
   "id": "60687726-defc-4a87-94b6-19d0fbb9919a",
   "metadata": {},
   "source": [
    "---"
   ]
  },
  {
   "cell_type": "markdown",
   "id": "dd9799be-6711-4faf-bd6e-adda699f48b3",
   "metadata": {},
   "source": [
    "## Init dataloader"
   ]
  },
  {
   "cell_type": "code",
   "execution_count": null,
   "id": "72c37643-26b0-45b4-9773-7e0a04264155",
   "metadata": {},
   "outputs": [],
   "source": [
    "CHIP_SIZE = 400\n",
    "CHIP_STRIDE = 400"
   ]
  },
  {
   "cell_type": "code",
   "execution_count": 57,
   "id": "5287b56a-886a-4f44-a0cf-c528aed55f97",
   "metadata": {},
   "outputs": [
    {
     "data": {
      "text/plain": [
       "742"
      ]
     },
     "execution_count": 57,
     "metadata": {},
     "output_type": "execute_result"
    }
   ],
   "source": [
    "uris = glob('2021_MA/**/*.tif')\n",
    "len(uris)"
   ]
  },
  {
   "cell_type": "code",
   "execution_count": 58,
   "id": "0ac1ede4-28cf-4b97-9ce4-ac0ea95cb3f7",
   "metadata": {},
   "outputs": [
    {
     "name": "stderr",
     "output_type": "stream",
     "text": [
      "Initializing RasterSources: 100%|██████████████████████████████████████████████████████████████████| 742/742 [02:02<00:00,  6.07it/s]\n"
     ]
    }
   ],
   "source": [
    "raster_sources = [None] * len(uris)\n",
    "for i, uri in enumerate(tqdm(uris, desc='Initializing RasterSources')):\n",
    "    rs = RasterioSource(uri, channel_order=[0, 1, 2], allow_streaming=True)\n",
    "    raster_sources[i] = rs"
   ]
  },
  {
   "cell_type": "code",
   "execution_count": 118,
   "id": "92002a25-f124-4382-9228-80141cc0ebdc",
   "metadata": {},
   "outputs": [
    {
     "name": "stderr",
     "output_type": "stream",
     "text": [
      "Initializing datasets: 100%|████████████████████████████████████████████████████████████████████| 742/742 [00:00<00:00, 26279.26it/s]\n"
     ]
    }
   ],
   "source": [
    "dses = [None] * len(raster_sources)\n",
    "for i, rs in enumerate(tqdm(raster_sources, desc='Initializing datasets')):\n",
    "    scene = Scene('', raster_source=rs)\n",
    "    ds = SemanticSegmentationSlidingWindowGeoDataset(\n",
    "        scene,\n",
    "        size=CHIP_SIZE,\n",
    "        stride=CHIP_STRIDE,\n",
    "        padding=0,\n",
    "        transform=A.Resize(224, 224),\n",
    "    )\n",
    "    dses[i] = ds"
   ]
  },
  {
   "cell_type": "code",
   "execution_count": 119,
   "id": "3e9f9170-a175-4cdf-bc11-a8a5118898e5",
   "metadata": {},
   "outputs": [
    {
     "data": {
      "text/plain": [
       "(33192, 2075)"
      ]
     },
     "execution_count": 119,
     "metadata": {},
     "output_type": "execute_result"
    }
   ],
   "source": [
    "ds = ConcatDataset(dses)\n",
    "dl = DataLoader(ds, batch_size=16, num_workers=4)\n",
    "len(ds), len(dl)"
   ]
  },
  {
   "cell_type": "markdown",
   "id": "886fd8d2-5855-4d6e-b07d-ab7b1151c9c4",
   "metadata": {},
   "source": [
    "---"
   ]
  },
  {
   "cell_type": "markdown",
   "id": "88bab020-6a53-482f-bdd9-1998da49005b",
   "metadata": {},
   "source": [
    "## Create GeoJSON of chip windows"
   ]
  },
  {
   "cell_type": "code",
   "execution_count": 120,
   "id": "0da13654-48a4-4b3f-8775-381a5cc77f40",
   "metadata": {},
   "outputs": [
    {
     "name": "stderr",
     "output_type": "stream",
     "text": [
      "100%|█████████████████████████████████████████████████████████████████████████████████████████████| 742/742 [00:02<00:00, 294.77it/s]\n",
      "100%|███████████████████████████████████████████████████████████████████████████████████████| 33192/33192 [00:01<00:00, 28591.52it/s]\n"
     ]
    },
    {
     "data": {
      "text/plain": [
       "33192"
      ]
     },
     "execution_count": 120,
     "metadata": {},
     "output_type": "execute_result"
    }
   ],
   "source": [
    "windows = [[_ds.scene.raster_source.crs_transformer.pixel_to_map(w) for w in _ds.windows] for _ds in tqdm(ds.datasets)]\n",
    "windows = sum(windows, [])\n",
    "window_geoms = [w.to_shapely() for w in tqdm(windows)]\n",
    "\n",
    "window_uris = [_ds.scene.raster_source.uris * len(_ds) for _ds in tqdm(ds.datasets)]\n",
    "assert len(window_uris) == len(windows)\n",
    "properties = [dict(uri=uri, emb_idx=i) for i, uri in enumerate(window_uris)]\n",
    "\n",
    "geojson = geoms_to_geojson(window_geoms, properties=properties)"
   ]
  },
  {
   "cell_type": "code",
   "execution_count": null,
   "id": "e73d8b56-dc76-49e8-a877-4a303a1c7c1a",
   "metadata": {},
   "outputs": [],
   "source": [
    "geojson_path = f'naip_MA_{CHIP_SIZE}_{CHIP_STRIDE}.json'\n",
    "json_to_file(geojson, geojson_path)\n",
    "# !aws s3 cp {geojson_path} s3://..."
   ]
  },
  {
   "cell_type": "markdown",
   "id": "4e6a0246-040c-495c-ad76-eb5933698f3f",
   "metadata": {},
   "source": [
    "---"
   ]
  },
  {
   "cell_type": "markdown",
   "id": "ec860bce-fa8b-448a-b09c-2847a8ac6a1c",
   "metadata": {
    "id": "869731f2-9df4-42db-9bdf-58fdc46240af"
   },
   "source": [
    "## Load model"
   ]
  },
  {
   "cell_type": "markdown",
   "id": "937aa964-ffdd-40c2-ac8e-fae679a1deff",
   "metadata": {
    "id": "YWg5NF0gsmHj"
   },
   "source": [
    "Download model (~5 GB):"
   ]
  },
  {
   "cell_type": "code",
   "execution_count": null,
   "id": "5ba4c507-088e-45f6-8035-eeb8976bbf37",
   "metadata": {
    "colab": {
     "base_uri": "https://localhost:8080/"
    },
    "id": "NQReBWAFq4ts",
    "outputId": "45bee2ef-c44d-4af3-ae8f-372f46f40aad"
   },
   "outputs": [
    {
     "name": "stdout",
     "output_type": "stream",
     "text": [
      "download: s3://raster-vision-ahassan/qe/SkyCLIP_ViT_L14_top50pct/epoch_20.pt to ./SkyCLIP.pt\n"
     ]
    }
   ],
   "source": [
    "!aws s3 cp s3://raster-vision-ahassan/qe/SkyCLIP_ViT_L14_top50pct/epoch_20.pt SkyCLIP.pt"
   ]
  },
  {
   "cell_type": "markdown",
   "id": "5ab3fb96-a3bd-4f4d-9244-60f7ecdd056c",
   "metadata": {
    "id": "Wx6BJqhAz8BN"
   },
   "source": [
    "Init model and tokenizer:"
   ]
  },
  {
   "cell_type": "code",
   "execution_count": null,
   "id": "c7aca19a-e7a0-4b21-8df0-45057ee88392",
   "metadata": {
    "id": "8b8d6528-c924-460c-8186-0e20775134f9"
   },
   "outputs": [],
   "source": [
    "import open_clip\n",
    "\n",
    "model_name = 'ViT-L-14'\n",
    "model, _, preprocess = open_clip.create_model_and_transforms(model_name)\n",
    "tokenizer = open_clip.get_tokenizer(model_name)"
   ]
  },
  {
   "cell_type": "markdown",
   "id": "00c0f3d2-a905-4c04-b172-da2e55a1b5d4",
   "metadata": {
    "id": "VelSlryFz5p4"
   },
   "source": [
    "Load model weights:"
   ]
  },
  {
   "cell_type": "code",
   "execution_count": null,
   "id": "195843a2-da26-44ef-94d0-be06b42386af",
   "metadata": {
    "id": "9250c399-a055-434f-8613-399866d8bc95"
   },
   "outputs": [],
   "source": [
    "ckpt_path = 'SkyCLIP.pt'\n",
    "ckpt = torch.load(ckpt_path, map_location=DEVICE)['state_dict']\n",
    "ckpt = {k[len('module.'):]:v for k, v in ckpt.items()}\n",
    "message = model.load_state_dict(ckpt)\n",
    "model = model.cuda().eval()"
   ]
  },
  {
   "cell_type": "markdown",
   "id": "5fa69e38-3de4-4a51-a987-408e08634b42",
   "metadata": {
    "id": "31ffd670-ef99-4e5b-9907-2a49027302a9"
   },
   "source": [
    "---"
   ]
  },
  {
   "cell_type": "markdown",
   "id": "ffbc5a51-99a8-4597-b3da-f9f7f89aeabe",
   "metadata": {},
   "source": [
    "## Embed chips"
   ]
  },
  {
   "cell_type": "code",
   "execution_count": 123,
   "id": "95d42bec-bd87-464a-a72b-113067381291",
   "metadata": {},
   "outputs": [
    {
     "name": "stderr",
     "output_type": "stream",
     "text": [
      "Creating chip embeddings: 100%|██████████████████████████████████████████████████████████████████| 2075/2075 [46:34<00:00,  1.35s/it]\n"
     ]
    },
    {
     "data": {
      "text/plain": [
       "torch.Size([33192, 768])"
      ]
     },
     "execution_count": 123,
     "metadata": {},
     "output_type": "execute_result"
    }
   ],
   "source": [
    "embs = torch.zeros(len(ds), 768)\n",
    "with torch.inference_mode(), tqdm(dl, desc='Creating chip embeddings') as bar:\n",
    "    i = 0\n",
    "    for x, _ in bar:\n",
    "        x = x.to(DEVICE)\n",
    "        emb = model.encode_image(x)\n",
    "        embs[i:i + len(x)] = emb.cpu()\n",
    "        i += len(x)\n",
    "# embs /= embs.norm(dim=-1, keepdim=True)\n",
    "embs.shape"
   ]
  },
  {
   "cell_type": "code",
   "execution_count": 72,
   "id": "908c8a54-d7db-4e7d-8273-1ba8cf013d09",
   "metadata": {},
   "outputs": [],
   "source": [
    "embs_path = f'skyscript_naip_MA_{CHIP_SIZE}_{CHIP_STRIDE}.pt'\n",
    "torch.save(embs, embs_path)\n",
    "# !aws s3 cp {embs_path} s3://..."
   ]
  },
  {
   "cell_type": "markdown",
   "id": "758b7372-71ef-453c-af5f-36ab1afd0778",
   "metadata": {},
   "source": [
    "---"
   ]
  },
  {
   "cell_type": "code",
   "execution_count": 45,
   "id": "31280c21-18e8-4419-8ccf-0d061c18e5d9",
   "metadata": {},
   "outputs": [],
   "source": []
  }
 ],
 "metadata": {
  "kernelspec": {
   "display_name": "Python 3 (ipykernel)",
   "language": "python",
   "name": "python3"
  },
  "language_info": {
   "codemirror_mode": {
    "name": "ipython",
    "version": 3
   },
   "file_extension": ".py",
   "mimetype": "text/x-python",
   "name": "python",
   "nbconvert_exporter": "python",
   "pygments_lexer": "ipython3",
   "version": "3.10.13"
  }
 },
 "nbformat": 4,
 "nbformat_minor": 5
}
