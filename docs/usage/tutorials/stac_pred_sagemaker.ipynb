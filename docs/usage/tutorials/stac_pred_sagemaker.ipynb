{
 "cells": [
  {
   "cell_type": "code",
   "execution_count": null,
   "id": "7adc8412-e75d-4a96-bfe4-453be6c3278b",
   "metadata": {},
   "outputs": [],
   "source": [
    "from os.path import join\n",
    "\n",
    "import pystac_client\n",
    "from shapely.geometry import mapping\n",
    "\n",
    "from rastervision.pipeline.file_system.utils import json_to_file, file_to_json\n",
    "from rastervision.aws_sagemaker import AWSSageMakerRunner\n",
    "from rastervision.core.box import Box\n",
    "from rastervision.core.data import (\n",
    "    RasterioSourceConfig, SceneConfig, SemanticSegmentationLabelStoreConfig,\n",
    "    XarraySourceConfig, STACItemConfig)\n",
    "from rastervision.core.predictor import Predictor2"
   ]
  },
  {
   "cell_type": "markdown",
   "id": "a9dd5dae-8a82-4f91-9177-1b2721219857",
   "metadata": {},
   "source": [
    "# Get a Sentinel-2 scene from a STAC API"
   ]
  },
  {
   "cell_type": "markdown",
   "id": "640b18ae-0543-4645-9beb-e1ad4d875fb5",
   "metadata": {},
   "source": [
    "Define AOI:"
   ]
  },
  {
   "cell_type": "code",
   "execution_count": 2,
   "id": "a3cfa273-a3b1-41a5-9f28-2e8455b9c9a1",
   "metadata": {},
   "outputs": [],
   "source": [
    "# Paris, France\n",
    "bbox = Box(ymin=48.8155755, xmin=2.224122, ymax=48.902156, xmax=2.4697602)\n",
    "bbox_geometry = mapping(bbox.to_shapely().oriented_envelope)"
   ]
  },
  {
   "cell_type": "markdown",
   "id": "95353da5-1127-47c5-a286-bb9b143365ce",
   "metadata": {},
   "source": [
    "Query STAC API:"
   ]
  },
  {
   "cell_type": "code",
   "execution_count": 3,
   "id": "62e64117-47e4-4fc3-bf79-5fa46fb1af11",
   "metadata": {},
   "outputs": [
    {
     "data": {
      "text/plain": [
       "3"
      ]
     },
     "execution_count": 3,
     "metadata": {},
     "output_type": "execute_result"
    }
   ],
   "source": [
    "URL = \"https://earth-search.aws.element84.com/v1\"\n",
    "catalog = pystac_client.Client.open(URL)\n",
    "\n",
    "items = catalog.search(\n",
    "    intersects=bbox_geometry,\n",
    "    collections=[\"sentinel-2-l2a\"],\n",
    "    datetime=\"2023-06-01/2023-06-10\",\n",
    ").get_all_items()\n",
    "len(items)"
   ]
  },
  {
   "cell_type": "markdown",
   "id": "33a611df-6d0b-4e05-8670-01d91822be8d",
   "metadata": {},
   "source": [
    "Pick a specific STAC item and serialize it to a file on S3:"
   ]
  },
  {
   "cell_type": "code",
   "execution_count": 10,
   "id": "35e742ee-1951-45fe-87c6-ae369d6d7b3c",
   "metadata": {},
   "outputs": [],
   "source": [
    "item = items[0]\n",
    "item_uri = join('s3://raster-vision-ahassan/rvtest/stac_pred_sagemaker/20231105/', 'stac-item.json')\n",
    "json_to_file(item.to_dict(), item_uri)"
   ]
  },
  {
   "cell_type": "markdown",
   "id": "55c3669a-677b-4251-9166-ec4ce3e061b6",
   "metadata": {},
   "source": [
    "# Configure Raster Vision"
   ]
  },
  {
   "cell_type": "markdown",
   "id": "0a1790bb-d658-47f5-87cf-7f543dcb809c",
   "metadata": {},
   "source": [
    "Define a Raster Vision [`SceneConfig`](https://docs.rastervision.io/en/stable/api_reference/_generated/rastervision.core.data.scene_config.SceneConfig.html#sceneconfig), which specifies how the raster is to be read and how the predictions are to be written:"
   ]
  },
  {
   "cell_type": "code",
   "execution_count": 3,
   "id": "77024f11-9e13-4233-8b16-65bdf72bf337",
   "metadata": {},
   "outputs": [],
   "source": [
    "raster_source_config = XarraySourceConfig(\n",
    "    stac=STACItemConfig(\n",
    "        uri=item_uri, \n",
    "        assets=[\n",
    "        'coastal', # B01\n",
    "        'blue', # B02\n",
    "        'green', # B03\n",
    "    ]),\n",
    "    bbox_map_coords=tuple(bbox),\n",
    ")\n",
    "\n",
    "pred_uri = join('s3://raster-vision-ahassan/rvtest/stac_pred_sagemaker/20231105/')\n",
    "label_store_config = SemanticSegmentationLabelStoreConfig(uri=pred_uri)\n",
    "\n",
    "scene_config = SceneConfig(\n",
    "    id='test_scene',\n",
    "    raster_source=raster_source_config,\n",
    "    label_store=label_store_config,\n",
    ")"
   ]
  },
  {
   "cell_type": "markdown",
   "id": "3efb08b9-4cc7-4a3f-a2df-46cca95175ff",
   "metadata": {},
   "source": [
    "Serialize the `SceneConfig` save it to a file on S3:"
   ]
  },
  {
   "cell_type": "code",
   "execution_count": 4,
   "id": "50ed17fc-2cd2-43e7-8813-e1e2cb9abcd5",
   "metadata": {},
   "outputs": [],
   "source": [
    "scene_config_uri = join('s3://raster-vision-ahassan/rvtest/stac_pred_sagemaker/20231105/', 'scene-config.json')\n",
    "json_to_file(scene_config.dict(), scene_config_uri)"
   ]
  },
  {
   "cell_type": "markdown",
   "id": "a4ae1362-a9ab-4bc2-ae59-32c04f99ee20",
   "metadata": {},
   "source": [
    "Inspect S3 directory:"
   ]
  },
  {
   "cell_type": "code",
   "execution_count": 5,
   "id": "f0ffcacd-c2f5-4612-a07f-2861d05807b5",
   "metadata": {},
   "outputs": [
    {
     "name": "stdout",
     "output_type": "stream",
     "text": [
      "2023-11-05 20:49:23        696 scene-config.json\n",
      "2023-11-05 20:49:21      23020 stac-item.json\n"
     ]
    }
   ],
   "source": [
    "! aws s3 ls \"s3://raster-vision-ahassan/rvtest/stac_pred_sagemaker/20231105/\""
   ]
  },
  {
   "cell_type": "markdown",
   "id": "b2e4ed65-2170-41b9-8147-e1838ebc021b",
   "metadata": {},
   "source": [
    "Specify a URI for the Raster Vision model-bundle:"
   ]
  },
  {
   "cell_type": "code",
   "execution_count": null,
   "id": "a70f238c-d91d-47ee-8254-40b2c00b2d6f",
   "metadata": {},
   "outputs": [],
   "source": [
    "# This particular model isn't actually trained on Sentinel-2 imagery and so\n",
    "# won't produce meaningful outputs. It is used here for demo purposes.\n",
    "model_bundle_uri = 'https://s3.amazonaws.com/azavea-research-public-data/raster-vision/examples/model-zoo-0.21/isprs-potsdam-ss/model-bundle.zip'"
   ]
  },
  {
   "cell_type": "markdown",
   "id": "31f00eb6-e2ca-4fda-b95e-1ac185e7c3b9",
   "metadata": {},
   "source": [
    "# Run the prediction on AWS SageMaker"
   ]
  },
  {
   "cell_type": "markdown",
   "id": "3f6741ca-cc0f-4b98-82d2-57dfe20b8ca2",
   "metadata": {},
   "source": [
    "Define CLI command to run the prediction:"
   ]
  },
  {
   "cell_type": "code",
   "execution_count": 6,
   "id": "39d03e82-006a-4746-80b2-eb5453358373",
   "metadata": {},
   "outputs": [
    {
     "data": {
      "text/plain": [
       "'rastervision predict_scene https://s3.amazonaws.com/azavea-research-public-data/raster-vision/examples/model-zoo-0.21/isprs-potsdam-ss/model-bundle.zip s3://raster-vision-ahassan/rvtest/stac_pred_sagemaker/20231105/scene-config.json'"
      ]
     },
     "execution_count": 6,
     "metadata": {},
     "output_type": "execute_result"
    }
   ],
   "source": [
    "cmd = ['rastervision', 'predict_scene', model_bundle_uri, scene_config_uri]\n",
    "' '.join(cmd)"
   ]
  },
  {
   "cell_type": "markdown",
   "id": "bb99f1eb-a1e6-420b-8f67-6598cde5d727",
   "metadata": {},
   "source": [
    "Run the command on AWS SageMaker:"
   ]
  },
  {
   "cell_type": "code",
   "execution_count": 8,
   "id": "d6d5188d-4f77-42c6-b13c-c2665f479d62",
   "metadata": {},
   "outputs": [
    {
     "name": "stderr",
     "output_type": "stream",
     "text": [
      "INFO:botocore.tokens:Loading cached SSO token for rv\n",
      "INFO:sagemaker:Creating processing-job with name stac-pred-2023-11-05-20-49-55-843\n"
     ]
    },
    {
     "name": "stdout",
     "output_type": "stream",
     "text": [
      ".........................................\u001b[34msagemaker.config INFO - Not applying SDK defaults from location: /etc/xdg/sagemaker/config.yaml\u001b[0m\n",
      "\u001b[34msagemaker.config INFO - Not applying SDK defaults from location: /root/.config/sagemaker/config.yaml\u001b[0m\n",
      "\u001b[34m2023-11-05 20:56:53:rastervision.pipeline.file_system.utils: INFO - Downloading https://s3.amazonaws.com/azavea-research-public-data/raster-vision/examples/model-zoo-0.21/isprs-potsdam-ss/model-bundle.zip to /opt/data/tmp/cache/http/s3.amazonaws.com/azavea-research-public-data/raster-vision/examples/model-zoo-0.21/isprs-potsdam-ss/model-bundle.zip...\u001b[0m\n",
      "\u001b[34m#015 80%|███████▉  | 166M/209M [00:05<00:01, 34.5MB/s]#015 87%|████████▋ | 183M/209M [00:05<00:00, 31.9MB/s]#015 93%|█████████▎| 195M/209M [00:06<00:00, 30.4MB/s]#015 99%|█████████▉| 208M/209M [00:07<00:00, 29.4MB/s]#015100%|██████████| 209M/209M [00:07<00:00, 31.3MB/s]\u001b[0m\n",
      "\u001b[34m2023-11-05 20:57:00:rastervision.pytorch_learner.learner: INFO - Loading learner from bundle /opt/data/tmp/tmpg4la3o4i/bundle/model-bundle.zip.\u001b[0m\n",
      "\u001b[34m2023-11-05 20:57:00:rastervision.pytorch_learner.learner: INFO - Unzipping model-bundle to /opt/data/tmp/tmpg4la3o4i/model-bundle\u001b[0m\n",
      "\u001b[34m2023-11-05 20:57:02:rastervision.pytorch_learner.learner: INFO - Using model definition found in bundle: /opt/data/tmp/tmpg4la3o4i/model-bundle/modules/fpn\u001b[0m\n",
      "\u001b[34m2023-11-05 20:57:02:rastervision.pytorch_learner.learner: INFO - Local output dir: /opt/data/tmp/tmpg4la3o4i/s3/raster-vision/examples/0.21/output/isprs-potsdam-ss/train\u001b[0m\n",
      "\u001b[34m2023-11-05 20:57:02:rastervision.pytorch_learner.learner: INFO - Remote output dir: s3://raster-vision/examples/0.21/output/isprs-potsdam-ss/train\u001b[0m\n",
      "\u001b[34m2023-11-05 20:57:02:rastervision.pytorch_learner.learner_config: INFO - Using existing module definition at: /opt/data/tmp/tmpg4la3o4i/model-bundle/modules/fpn\u001b[0m\n",
      "\u001b[34mDownloading: \"https://download.pytorch.org/models/resnet50-0676ba61.pth\" to /root/.cache/torch/hub/checkpoints/resnet50-0676ba61.pth\u001b[0m\n",
      "\u001b[34m#015  0%|          | 0.00/97.8M [00:00<?, ?B/s]#015 20%|██        | 19.6M/97.8M [00:00<00:00, 206MB/s]#015 43%|████▎     | 42.3M/97.8M [00:00<00:00, 225MB/s]#015 67%|██████▋   | 65.2M/97.8M [00:00<00:00, 232MB/s]#015 90%|█████████ | 88.3M/97.8M [00:00<00:00, 236MB/s]#015100%|██████████| 97.8M/97.8M [00:00<00:00, 233MB/s]\u001b[0m\n",
      "\u001b[34m2023-11-05 20:57:05:rastervision.pytorch_learner.learner: INFO - Loading model weights from: /opt/data/tmp/tmpg4la3o4i/model-bundle/model.pth\u001b[0m\n",
      "\u001b[34m#015Making predictions on test_scene:   0%|          | 0/18 [00:00<?, ?it/s]#015Making predictions on test_scene:   6%|▌         | 1/18 [00:04<01:13,  4.34s/it]#015Making predictions on test_scene:  94%|█████████▍| 17/18 [00:04<00:00,  5.30it/s]#015Making predictions on test_scene: 100%|██████████| 18/18 [00:04<00:00,  4.00it/s]\u001b[0m\n",
      "\u001b[34m#015Saving pixel labels:   0%|          | 0/4 [00:00<?, ?it/s]#015Saving pixel labels: 100%|██████████| 4/4 [00:00<00:00, 75.45it/s]\u001b[0m\n",
      "\u001b[34mCompleted 256.0 KiB/1.6 MiB (13.9 MiB/s) with 1 file(s) remaining#015Completed 512.0 KiB/1.6 MiB (24.6 MiB/s) with 1 file(s) remaining#015Completed 768.0 KiB/1.6 MiB (33.8 MiB/s) with 1 file(s) remaining#015Completed 1.0 MiB/1.6 MiB (41.4 MiB/s) with 1 file(s) remaining  #015Completed 1.2 MiB/1.6 MiB (48.1 MiB/s) with 1 file(s) remaining  #015Completed 1.5 MiB/1.6 MiB (54.8 MiB/s) with 1 file(s) remaining  #015Completed 1.6 MiB/1.6 MiB (13.4 MiB/s) with 1 file(s) remaining  #015upload: ../data/tmp/tmpg4la3o4i/s3/raster-vision-ahassan/rvtest/stac_pred_sagemaker/20231105/labels.tif to s3://raster-vision-ahassan/rvtest/stac_pred_sagemaker/20231105/labels.tif\u001b[0m\n",
      "\n"
     ]
    }
   ],
   "source": [
    "runner = AWSSageMakerRunner()\n",
    "runner.run_command(\n",
    "    cmd=cmd,\n",
    "    use_gpu=True,\n",
    "    job_name='stac-pred',\n",
    ")"
   ]
  },
  {
   "cell_type": "markdown",
   "id": "b9288736-9c28-4b39-bf3a-ec8e8e9badbc",
   "metadata": {},
   "source": [
    "Inspect the S3 directory again. Note the new `labels.tif` file containing predictions."
   ]
  },
  {
   "cell_type": "code",
   "execution_count": 9,
   "id": "ecdbd4ad-0158-4816-b1a2-662fd2ca14e0",
   "metadata": {},
   "outputs": [
    {
     "name": "stdout",
     "output_type": "stream",
     "text": [
      "2023-11-05 20:57:12    1714462 labels.tif\n",
      "2023-11-05 20:49:23        696 scene-config.json\n",
      "2023-11-05 20:49:21      23020 stac-item.json\n"
     ]
    }
   ],
   "source": [
    "! aws s3 ls \"s3://raster-vision-ahassan/rvtest/stac_pred_sagemaker/20231105/\""
   ]
  }
 ],
 "metadata": {
  "kernelspec": {
   "display_name": "Python 3 (ipykernel)",
   "language": "python",
   "name": "python3"
  },
  "language_info": {
   "codemirror_mode": {
    "name": "ipython",
    "version": 3
   },
   "file_extension": ".py",
   "mimetype": "text/x-python",
   "name": "python",
   "nbconvert_exporter": "python",
   "pygments_lexer": "ipython3",
   "version": "3.10.12"
  }
 },
 "nbformat": 4,
 "nbformat_minor": 5
}
